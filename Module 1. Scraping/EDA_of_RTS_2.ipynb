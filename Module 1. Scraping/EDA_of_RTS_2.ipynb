{
  "cells": [
    {
      "cell_type": "code",
      "execution_count": 3,
      "metadata": {
        "id": "vubHogQcArAO"
      },
      "outputs": [],
      "source": [
        "import numpy as np\n",
        "import pandas as pd\n",
        "import os\n",
        "import matplotlib.pyplot as plt\n",
        "from matplotlib.pyplot import figure\n",
        "import plotly.express as px\n",
        "import matplotlib.patches as patches"
      ]
    },
    {
      "cell_type": "code",
      "execution_count": 4,
      "metadata": {
        "id": "VXEO6MtEP-PV"
      },
      "outputs": [],
      "source": [
        "labels = pd.read_csv('/Users/muzafarov/Desktop/MyEducation/DataEngineering-Course/Module 1. Scraping/full-gt.csv')"
      ]
    },
    {
      "cell_type": "code",
      "execution_count": 5,
      "metadata": {
        "colab": {
          "base_uri": "https://localhost:8080/",
          "height": 424
        },
        "id": "ZVEuIoEsRC4n",
        "outputId": "005f49ca-d531-41e6-9a1b-68d4b3b77978"
      },
      "outputs": [
        {
          "data": {
            "text/html": [
              "<div>\n",
              "<style scoped>\n",
              "    .dataframe tbody tr th:only-of-type {\n",
              "        vertical-align: middle;\n",
              "    }\n",
              "\n",
              "    .dataframe tbody tr th {\n",
              "        vertical-align: top;\n",
              "    }\n",
              "\n",
              "    .dataframe thead th {\n",
              "        text-align: right;\n",
              "    }\n",
              "</style>\n",
              "<table border=\"1\" class=\"dataframe\">\n",
              "  <thead>\n",
              "    <tr style=\"text-align: right;\">\n",
              "      <th></th>\n",
              "      <th>filename</th>\n",
              "      <th>x_from</th>\n",
              "      <th>y_from</th>\n",
              "      <th>width</th>\n",
              "      <th>height</th>\n",
              "      <th>sign_class</th>\n",
              "      <th>sign_id</th>\n",
              "    </tr>\n",
              "  </thead>\n",
              "  <tbody>\n",
              "    <tr>\n",
              "      <th>0</th>\n",
              "      <td>autosave01_02_2012_09_13_33.jpg</td>\n",
              "      <td>649</td>\n",
              "      <td>376</td>\n",
              "      <td>18</td>\n",
              "      <td>18</td>\n",
              "      <td>2_1</td>\n",
              "      <td>0</td>\n",
              "    </tr>\n",
              "    <tr>\n",
              "      <th>1</th>\n",
              "      <td>autosave01_02_2012_09_13_34.jpg</td>\n",
              "      <td>671</td>\n",
              "      <td>356</td>\n",
              "      <td>20</td>\n",
              "      <td>21</td>\n",
              "      <td>2_1</td>\n",
              "      <td>0</td>\n",
              "    </tr>\n",
              "    <tr>\n",
              "      <th>2</th>\n",
              "      <td>autosave01_02_2012_09_13_35.jpg</td>\n",
              "      <td>711</td>\n",
              "      <td>332</td>\n",
              "      <td>27</td>\n",
              "      <td>26</td>\n",
              "      <td>2_1</td>\n",
              "      <td>0</td>\n",
              "    </tr>\n",
              "    <tr>\n",
              "      <th>3</th>\n",
              "      <td>autosave01_02_2012_09_13_36.jpg</td>\n",
              "      <td>764</td>\n",
              "      <td>290</td>\n",
              "      <td>37</td>\n",
              "      <td>36</td>\n",
              "      <td>2_1</td>\n",
              "      <td>0</td>\n",
              "    </tr>\n",
              "    <tr>\n",
              "      <th>4</th>\n",
              "      <td>autosave01_02_2012_09_13_36.jpg</td>\n",
              "      <td>684</td>\n",
              "      <td>384</td>\n",
              "      <td>17</td>\n",
              "      <td>17</td>\n",
              "      <td>1_23</td>\n",
              "      <td>1</td>\n",
              "    </tr>\n",
              "    <tr>\n",
              "      <th>...</th>\n",
              "      <td>...</td>\n",
              "      <td>...</td>\n",
              "      <td>...</td>\n",
              "      <td>...</td>\n",
              "      <td>...</td>\n",
              "      <td>...</td>\n",
              "      <td>...</td>\n",
              "    </tr>\n",
              "    <tr>\n",
              "      <th>104353</th>\n",
              "      <td>autosave24_10_2013_13_18_37_1.jpg</td>\n",
              "      <td>622</td>\n",
              "      <td>394</td>\n",
              "      <td>27</td>\n",
              "      <td>16</td>\n",
              "      <td>5_15_7</td>\n",
              "      <td>2565</td>\n",
              "    </tr>\n",
              "    <tr>\n",
              "      <th>104354</th>\n",
              "      <td>autosave24_10_2013_13_18_37_2.jpg</td>\n",
              "      <td>638</td>\n",
              "      <td>387</td>\n",
              "      <td>31</td>\n",
              "      <td>18</td>\n",
              "      <td>5_15_7</td>\n",
              "      <td>2565</td>\n",
              "    </tr>\n",
              "    <tr>\n",
              "      <th>104355</th>\n",
              "      <td>autosave24_10_2013_13_18_38_0.jpg</td>\n",
              "      <td>647</td>\n",
              "      <td>385</td>\n",
              "      <td>33</td>\n",
              "      <td>20</td>\n",
              "      <td>5_15_7</td>\n",
              "      <td>2565</td>\n",
              "    </tr>\n",
              "    <tr>\n",
              "      <th>104356</th>\n",
              "      <td>autosave24_10_2013_13_18_38_1.jpg</td>\n",
              "      <td>668</td>\n",
              "      <td>378</td>\n",
              "      <td>41</td>\n",
              "      <td>23</td>\n",
              "      <td>5_15_7</td>\n",
              "      <td>2565</td>\n",
              "    </tr>\n",
              "    <tr>\n",
              "      <th>104357</th>\n",
              "      <td>autosave24_10_2013_13_18_38_2.jpg</td>\n",
              "      <td>703</td>\n",
              "      <td>370</td>\n",
              "      <td>46</td>\n",
              "      <td>26</td>\n",
              "      <td>5_15_7</td>\n",
              "      <td>2565</td>\n",
              "    </tr>\n",
              "  </tbody>\n",
              "</table>\n",
              "<p>104358 rows × 7 columns</p>\n",
              "</div>"
            ],
            "text/plain": [
              "                                 filename  x_from  y_from  width  height  \\\n",
              "0         autosave01_02_2012_09_13_33.jpg     649     376     18      18   \n",
              "1         autosave01_02_2012_09_13_34.jpg     671     356     20      21   \n",
              "2         autosave01_02_2012_09_13_35.jpg     711     332     27      26   \n",
              "3         autosave01_02_2012_09_13_36.jpg     764     290     37      36   \n",
              "4         autosave01_02_2012_09_13_36.jpg     684     384     17      17   \n",
              "...                                   ...     ...     ...    ...     ...   \n",
              "104353  autosave24_10_2013_13_18_37_1.jpg     622     394     27      16   \n",
              "104354  autosave24_10_2013_13_18_37_2.jpg     638     387     31      18   \n",
              "104355  autosave24_10_2013_13_18_38_0.jpg     647     385     33      20   \n",
              "104356  autosave24_10_2013_13_18_38_1.jpg     668     378     41      23   \n",
              "104357  autosave24_10_2013_13_18_38_2.jpg     703     370     46      26   \n",
              "\n",
              "       sign_class  sign_id  \n",
              "0             2_1        0  \n",
              "1             2_1        0  \n",
              "2             2_1        0  \n",
              "3             2_1        0  \n",
              "4            1_23        1  \n",
              "...           ...      ...  \n",
              "104353     5_15_7     2565  \n",
              "104354     5_15_7     2565  \n",
              "104355     5_15_7     2565  \n",
              "104356     5_15_7     2565  \n",
              "104357     5_15_7     2565  \n",
              "\n",
              "[104358 rows x 7 columns]"
            ]
          },
          "execution_count": 5,
          "metadata": {},
          "output_type": "execute_result"
        }
      ],
      "source": [
        "labels"
      ]
    },
    {
      "cell_type": "code",
      "execution_count": 6,
      "metadata": {
        "colab": {
          "base_uri": "https://localhost:8080/",
          "height": 485
        },
        "id": "8tb8yfD_P-0X",
        "outputId": "b9997dff-ab45-4b59-f391-2593a27428fe"
      },
      "outputs": [
        {
          "data": {
            "image/png": "[encoded data removed]",
            "text/plain": [
              "<Figure size 1600x480 with 1 Axes>"
            ]
          },
          "metadata": {},
          "output_type": "display_data"
        }
      ],
      "source": [
        "figure(figsize=(20, 6), dpi=80)\n",
        "plt.hist(labels.sign_class, bins=198)\n",
        "plt.xticks(rotation=90)\n",
        "plt.show()"
      ]
    },
    {
      "cell_type": "code",
      "execution_count": 7,
      "metadata": {
        "colab": {
          "base_uri": "https://localhost:8080/"
        },
        "id": "fdZb_daPnflW",
        "outputId": "e9fa6605-98d1-427b-9159-c08e5d975447"
      },
      "outputs": [
        {
          "data": {
            "text/plain": [
              "array(['2_1', '1_23', '1_17', '3_24_n40', '8_2_1', '5_20', '3_24_n20',\n",
              "       '5_19_1', '5_16', '3_25_n20', '6_16', '7_15', '2_2', '2_4',\n",
              "       '8_13_1', '4_2_1', '1_20_3', '1_25', '3_4_n8', '8_3_2', '3_4_1',\n",
              "       '4_1_6', '4_2_3', '4_1_1', '1_33', '5_15_5', '3_27', '1_15',\n",
              "       '4_1_2_1', '6_3_1', '8_1_1', '6_7', '5_15_3', '7_3', '1_19', '6_4',\n",
              "       '8_1_4', '8_8', '1_16', '1_11_1', '6_6', '5_15_1', '7_2', '5_15_2',\n",
              "       '7_12', '3_18', '5_6', '5_5', '7_4', '4_1_2', '8_2_2', '7_11',\n",
              "       '3_24_n5', '1_22', '1_27', '2_3_2', '5_15_2_2', '1_8', '3_13_r5',\n",
              "       '2_3', '8_3_3', '2_3_3', '7_7', '1_11', '8_13', '3_24_n30',\n",
              "       '1_12_2', '1_20', '1_12', '3_24_n60', '3_24_n70', '3_24_n50',\n",
              "       '3_32', '2_5', '3_1', '4_8_2', '3_20', '3_13_r4.5', '3_2', '2_3_6',\n",
              "       '5_22', '5_18', '2_3_5', '7_5', '8_4_1', '3_13_r3.7', '3_14_r3.7',\n",
              "       '1_2', '1_20_2', '4_1_4', '7_6', '8_1_3', '8_3_1', '4_3', '4_1_5',\n",
              "       '8_2_3', '8_2_4', '3_24_n80', '1_31', '3_10', '4_2_2', '3_13_r2.5',\n",
              "       '7_1', '3_28', '4_1_3', '5_4', '5_3', '3_25_n40', '3_13_r4',\n",
              "       '6_8_2', '3_31', '6_2_n50', '3_24_n10', '3_25_n50', '1_21', '3_21',\n",
              "       '1_13', '1_14', '6_2_n70', '2_3_4', '4_8_3', '6_15_2', '2_6',\n",
              "       '3_18_2', '4_1_2_2', '1_7', '3_19', '1_18', '2_7', '8_5_4',\n",
              "       '3_25_n80', '5_15_7', '5_14', '5_21', '1_1', '6_15_1', '3_4_n2',\n",
              "       '8_6_4', '8_15', '4_5', '3_13_r4.2', '6_2_n60', '3_11_n23',\n",
              "       '3_11_n9', '8_18', '8_4_4', '3_30', '5_7_1', '5_7_2', '1_5',\n",
              "       '3_29', '6_15_3', '5_12', '3_16_n3', '3_13_r4.3', '1_30', '5_11',\n",
              "       '1_6', '8_6_2', '6_8_3', '3_12_n10', '3_12_n6', '3_33', '3_11_n13',\n",
              "       '3_14_r2.7', '3_16_n1', '8_4_3', '5_8', '3_11_n20', '3_11_n5',\n",
              "       '8_14', '3_11_n8', '3_4_n5', '8_17', '3_6', '3_14_r3', '1_26',\n",
              "       '3_12_n5', '8_5_2', '6_8_1', '5_17', '1_10', '3_13_r3.5',\n",
              "       '3_13_r3.3', '3_13_r4.1', '3_11_n17', '8_16', '3_13_r3',\n",
              "       '3_25_n70', '6_2_n20', '3_12_n3', '3_14_r3.5', '3_13_r3.9',\n",
              "       '6_2_n40', '3_13_r5.2', '7_18', '7_14', '8_23'], dtype=object)"
            ]
          },
          "execution_count": 7,
          "metadata": {},
          "output_type": "execute_result"
        }
      ],
      "source": [
        "# Уникальные значения классов\n",
        "labels_unique = labels.sign_class.unique()\n",
        "labels_unique"
      ]
    },
    {
      "cell_type": "code",
      "execution_count": 8,
      "metadata": {
        "colab": {
          "base_uri": "https://localhost:8080/"
        },
        "id": "obmc83Ljnu7t",
        "outputId": "8112be4e-4824-4a55-c1e3-1752e03ffa7e"
      },
      "outputs": [
        {
          "data": {
            "text/plain": [
              "count     104358\n",
              "unique       198\n",
              "top       5_19_1\n",
              "freq       24264\n",
              "Name: sign_class, dtype: object"
            ]
          },
          "execution_count": 8,
          "metadata": {},
          "output_type": "execute_result"
        }
      ],
      "source": [
        "# Статистика по уникальным значениям\n",
        "labels.sign_class.describe()"
      ]
    },
    {
      "cell_type": "code",
      "execution_count": 9,
      "metadata": {
        "colab": {
          "base_uri": "https://localhost:8080/",
          "height": 424
        },
        "id": "Q28OwOseoM4o",
        "outputId": "025a6dd5-026c-424a-af40-17648f6c5b95"
      },
      "outputs": [
        {
          "data": {
            "text/html": [
              "<div>\n",
              "<style scoped>\n",
              "    .dataframe tbody tr th:only-of-type {\n",
              "        vertical-align: middle;\n",
              "    }\n",
              "\n",
              "    .dataframe tbody tr th {\n",
              "        vertical-align: top;\n",
              "    }\n",
              "\n",
              "    .dataframe thead th {\n",
              "        text-align: right;\n",
              "    }\n",
              "</style>\n",
              "<table border=\"1\" class=\"dataframe\">\n",
              "  <thead>\n",
              "    <tr style=\"text-align: right;\">\n",
              "      <th></th>\n",
              "      <th>filename</th>\n",
              "      <th>x_from</th>\n",
              "      <th>y_from</th>\n",
              "      <th>width</th>\n",
              "      <th>height</th>\n",
              "      <th>sign_class</th>\n",
              "      <th>sign_id</th>\n",
              "    </tr>\n",
              "  </thead>\n",
              "  <tbody>\n",
              "    <tr>\n",
              "      <th>32</th>\n",
              "      <td>autosave01_02_2012_09_13_54.jpg</td>\n",
              "      <td>668</td>\n",
              "      <td>379</td>\n",
              "      <td>17</td>\n",
              "      <td>16</td>\n",
              "      <td>5_19_1</td>\n",
              "      <td>9</td>\n",
              "    </tr>\n",
              "    <tr>\n",
              "      <th>34</th>\n",
              "      <td>autosave01_02_2012_09_13_54.jpg</td>\n",
              "      <td>374</td>\n",
              "      <td>405</td>\n",
              "      <td>17</td>\n",
              "      <td>17</td>\n",
              "      <td>5_19_1</td>\n",
              "      <td>11</td>\n",
              "    </tr>\n",
              "    <tr>\n",
              "      <th>35</th>\n",
              "      <td>autosave01_02_2012_09_13_55.jpg</td>\n",
              "      <td>688</td>\n",
              "      <td>375</td>\n",
              "      <td>19</td>\n",
              "      <td>19</td>\n",
              "      <td>5_19_1</td>\n",
              "      <td>9</td>\n",
              "    </tr>\n",
              "    <tr>\n",
              "      <th>37</th>\n",
              "      <td>autosave01_02_2012_09_13_55.jpg</td>\n",
              "      <td>357</td>\n",
              "      <td>405</td>\n",
              "      <td>17</td>\n",
              "      <td>17</td>\n",
              "      <td>5_19_1</td>\n",
              "      <td>11</td>\n",
              "    </tr>\n",
              "    <tr>\n",
              "      <th>38</th>\n",
              "      <td>autosave01_02_2012_09_13_57.jpg</td>\n",
              "      <td>739</td>\n",
              "      <td>347</td>\n",
              "      <td>27</td>\n",
              "      <td>28</td>\n",
              "      <td>5_19_1</td>\n",
              "      <td>9</td>\n",
              "    </tr>\n",
              "    <tr>\n",
              "      <th>...</th>\n",
              "      <td>...</td>\n",
              "      <td>...</td>\n",
              "      <td>...</td>\n",
              "      <td>...</td>\n",
              "      <td>...</td>\n",
              "      <td>...</td>\n",
              "      <td>...</td>\n",
              "    </tr>\n",
              "    <tr>\n",
              "      <th>104276</th>\n",
              "      <td>autosave24_10_2013_13_17_39_2.jpg</td>\n",
              "      <td>782</td>\n",
              "      <td>382</td>\n",
              "      <td>23</td>\n",
              "      <td>22</td>\n",
              "      <td>5_19_1</td>\n",
              "      <td>2547</td>\n",
              "    </tr>\n",
              "    <tr>\n",
              "      <th>104277</th>\n",
              "      <td>autosave24_10_2013_13_17_39_2.jpg</td>\n",
              "      <td>110</td>\n",
              "      <td>394</td>\n",
              "      <td>23</td>\n",
              "      <td>22</td>\n",
              "      <td>5_19_1</td>\n",
              "      <td>2548</td>\n",
              "    </tr>\n",
              "    <tr>\n",
              "      <th>104278</th>\n",
              "      <td>autosave24_10_2013_13_17_39_3.jpg</td>\n",
              "      <td>822</td>\n",
              "      <td>372</td>\n",
              "      <td>25</td>\n",
              "      <td>25</td>\n",
              "      <td>5_19_1</td>\n",
              "      <td>2547</td>\n",
              "    </tr>\n",
              "    <tr>\n",
              "      <th>104279</th>\n",
              "      <td>autosave24_10_2013_13_17_39_3.jpg</td>\n",
              "      <td>57</td>\n",
              "      <td>386</td>\n",
              "      <td>26</td>\n",
              "      <td>24</td>\n",
              "      <td>5_19_1</td>\n",
              "      <td>2548</td>\n",
              "    </tr>\n",
              "    <tr>\n",
              "      <th>104280</th>\n",
              "      <td>autosave24_10_2013_13_17_39_4.jpg</td>\n",
              "      <td>910</td>\n",
              "      <td>359</td>\n",
              "      <td>32</td>\n",
              "      <td>31</td>\n",
              "      <td>5_19_1</td>\n",
              "      <td>2547</td>\n",
              "    </tr>\n",
              "  </tbody>\n",
              "</table>\n",
              "<p>24264 rows × 7 columns</p>\n",
              "</div>"
            ],
            "text/plain": [
              "                                 filename  x_from  y_from  width  height  \\\n",
              "32        autosave01_02_2012_09_13_54.jpg     668     379     17      16   \n",
              "34        autosave01_02_2012_09_13_54.jpg     374     405     17      17   \n",
              "35        autosave01_02_2012_09_13_55.jpg     688     375     19      19   \n",
              "37        autosave01_02_2012_09_13_55.jpg     357     405     17      17   \n",
              "38        autosave01_02_2012_09_13_57.jpg     739     347     27      28   \n",
              "...                                   ...     ...     ...    ...     ...   \n",
              "104276  autosave24_10_2013_13_17_39_2.jpg     782     382     23      22   \n",
              "104277  autosave24_10_2013_13_17_39_2.jpg     110     394     23      22   \n",
              "104278  autosave24_10_2013_13_17_39_3.jpg     822     372     25      25   \n",
              "104279  autosave24_10_2013_13_17_39_3.jpg      57     386     26      24   \n",
              "104280  autosave24_10_2013_13_17_39_4.jpg     910     359     32      31   \n",
              "\n",
              "       sign_class  sign_id  \n",
              "32         5_19_1        9  \n",
              "34         5_19_1       11  \n",
              "35         5_19_1        9  \n",
              "37         5_19_1       11  \n",
              "38         5_19_1        9  \n",
              "...           ...      ...  \n",
              "104276     5_19_1     2547  \n",
              "104277     5_19_1     2548  \n",
              "104278     5_19_1     2547  \n",
              "104279     5_19_1     2548  \n",
              "104280     5_19_1     2547  \n",
              "\n",
              "[24264 rows x 7 columns]"
            ]
          },
          "execution_count": 9,
          "metadata": {},
          "output_type": "execute_result"
        }
      ],
      "source": [
        "labels.loc[labels['sign_class'] == '5_19_1']"
      ]
    },
    {
      "cell_type": "markdown",
      "metadata": {
        "id": "tMbNHfwan4no"
      },
      "source": [
        "Наиболее частовстречаемый класс - **5_19_1**. Всего различных классов дорожных знаков в нашем датасете - **198**. Как видно из подсчетов элементов в каждом классе и из графиков ниже, довольно много классов с очень маленьким количеством фотографий. Количество самого популярного класса в **2** с лишним раза больше, чем второго по популярности, что плохо."
      ]
    },
    {
      "cell_type": "markdown",
      "metadata": {
        "id": "FfUovYTPjjcF"
      },
      "source": [
        "# Данные по классам"
      ]
    },
    {
      "cell_type": "code",
      "execution_count": 10,
      "metadata": {
        "colab": {
          "base_uri": "https://localhost:8080/",
          "height": 424
        },
        "execution": {
          "iopub.execute_input": "2022-11-24T06:09:17.708425Z",
          "iopub.status.busy": "2022-11-24T06:09:17.708058Z",
          "iopub.status.idle": "2022-11-24T06:09:17.742814Z",
          "shell.execute_reply": "2022-11-24T06:09:17.741914Z",
          "shell.execute_reply.started": "2022-11-24T06:09:17.708394Z"
        },
        "id": "u8TmquBpurom",
        "outputId": "dd0b3cd3-b09f-4efb-c3c3-744023e13ccd"
      },
      "outputs": [
        {
          "data": {
            "text/html": [
              "<div>\n",
              "<style scoped>\n",
              "    .dataframe tbody tr th:only-of-type {\n",
              "        vertical-align: middle;\n",
              "    }\n",
              "\n",
              "    .dataframe tbody tr th {\n",
              "        vertical-align: top;\n",
              "    }\n",
              "\n",
              "    .dataframe thead th {\n",
              "        text-align: right;\n",
              "    }\n",
              "</style>\n",
              "<table border=\"1\" class=\"dataframe\">\n",
              "  <thead>\n",
              "    <tr style=\"text-align: right;\">\n",
              "      <th></th>\n",
              "      <th>sign_class</th>\n",
              "      <th>count</th>\n",
              "    </tr>\n",
              "  </thead>\n",
              "  <tbody>\n",
              "    <tr>\n",
              "      <th>0</th>\n",
              "      <td>3_13_r3.3</td>\n",
              "      <td>1</td>\n",
              "    </tr>\n",
              "    <tr>\n",
              "      <th>1</th>\n",
              "      <td>2_3_5</td>\n",
              "      <td>1</td>\n",
              "    </tr>\n",
              "    <tr>\n",
              "      <th>2</th>\n",
              "      <td>3_33</td>\n",
              "      <td>1</td>\n",
              "    </tr>\n",
              "    <tr>\n",
              "      <th>3</th>\n",
              "      <td>3_13_r5.2</td>\n",
              "      <td>2</td>\n",
              "    </tr>\n",
              "    <tr>\n",
              "      <th>4</th>\n",
              "      <td>3_13_r3.7</td>\n",
              "      <td>2</td>\n",
              "    </tr>\n",
              "    <tr>\n",
              "      <th>...</th>\n",
              "      <td>...</td>\n",
              "      <td>...</td>\n",
              "    </tr>\n",
              "    <tr>\n",
              "      <th>193</th>\n",
              "      <td>2_4</td>\n",
              "      <td>4095</td>\n",
              "    </tr>\n",
              "    <tr>\n",
              "      <th>194</th>\n",
              "      <td>5_15_2</td>\n",
              "      <td>4944</td>\n",
              "    </tr>\n",
              "    <tr>\n",
              "      <th>195</th>\n",
              "      <td>5_16</td>\n",
              "      <td>5172</td>\n",
              "    </tr>\n",
              "    <tr>\n",
              "      <th>196</th>\n",
              "      <td>2_1</td>\n",
              "      <td>10961</td>\n",
              "    </tr>\n",
              "    <tr>\n",
              "      <th>197</th>\n",
              "      <td>5_19_1</td>\n",
              "      <td>24264</td>\n",
              "    </tr>\n",
              "  </tbody>\n",
              "</table>\n",
              "<p>198 rows × 2 columns</p>\n",
              "</div>"
            ],
            "text/plain": [
              "    sign_class  count\n",
              "0    3_13_r3.3      1\n",
              "1        2_3_5      1\n",
              "2         3_33      1\n",
              "3    3_13_r5.2      2\n",
              "4    3_13_r3.7      2\n",
              "..         ...    ...\n",
              "193        2_4   4095\n",
              "194     5_15_2   4944\n",
              "195       5_16   5172\n",
              "196        2_1  10961\n",
              "197     5_19_1  24264\n",
              "\n",
              "[198 rows x 2 columns]"
            ]
          },
          "execution_count": 10,
          "metadata": {},
          "output_type": "execute_result"
        }
      ],
      "source": [
        "df = pd.DataFrame(labels, columns=['sign_class'])\n",
        "df['count'] = 1\n",
        "df_new = df.groupby('sign_class').count().sort_values('count')\n",
        "df_new.reset_index(inplace= True )\n",
        "df_new"
      ]
    },
    {
      "cell_type": "code",
      "execution_count": 11,
      "metadata": {
        "colab": {
          "base_uri": "https://localhost:8080/"
        },
        "id": "uE5yDSECVi9r",
        "outputId": "0b5ae62c-9600-405d-8b87-059cd130667f"
      },
      "outputs": [
        {
          "data": {
            "text/plain": [
              "array([    1,     2,     3,     4,     5,     6,     8,     9,    10,\n",
              "          11,    12,    13,    14,    15,    16,    18,    19,    20,\n",
              "          21,    22,    24,    25,    26,    32,    34,    35,    36,\n",
              "          42,    43,    45,    51,    55,    57,    58,    61,    68,\n",
              "          71,    72,    74,    75,    81,    83,    85,    87,    88,\n",
              "          90,    93,    96,    98,    99,   101,   103,   104,   106,\n",
              "         119,   124,   126,   138,   144,   146,   147,   155,   156,\n",
              "         158,   160,   164,   165,   174,   175,   176,   178,   180,\n",
              "         183,   190,   191,   199,   203,   208,   227,   234,   261,\n",
              "         272,   275,   310,   313,   334,   339,   341,   353,   366,\n",
              "         384,   385,   432,   437,   473,   477,   533,   543,   544,\n",
              "         548,   576,   635,   694,   814,   828,   943,   995,   997,\n",
              "        1007,  1024,  1027,  1054,  1075,  1104,  1166,  1190,  1191,\n",
              "        1208,  1256,  1390,  1493,  1592,  1803,  2007,  2197,  2333,\n",
              "        2787,  3558,  4095,  4944,  5172, 10961, 24264])"
            ]
          },
          "execution_count": 11,
          "metadata": {},
          "output_type": "execute_result"
        }
      ],
      "source": [
        "# Уникальные значения\n",
        "count_unique = df_new['count'].unique()\n",
        "count_unique"
      ]
    },
    {
      "cell_type": "code",
      "execution_count": 12,
      "metadata": {
        "colab": {
          "base_uri": "https://localhost:8080/"
        },
        "id": "4X4t_2tgWCzl",
        "outputId": "6582e3db-b606-4583-ecc0-9af487858481"
      },
      "outputs": [
        {
          "data": {
            "text/plain": [
              "0.25       14.25\n",
              "0.50       84.00\n",
              "0.75      310.00\n",
              "1.00    24264.00\n",
              "Name: count, dtype: float64"
            ]
          },
          "execution_count": 12,
          "metadata": {},
          "output_type": "execute_result"
        }
      ],
      "source": [
        "# квантили\n",
        "df_new['count'].quantile([.25, .5, .75, 1.])"
      ]
    },
    {
      "cell_type": "code",
      "execution_count": 13,
      "metadata": {
        "colab": {
          "base_uri": "https://localhost:8080/"
        },
        "id": "UaKmpNvDV7Or",
        "outputId": "f42fc099-5884-4b20-eddb-89c2c691960a"
      },
      "outputs": [
        {
          "data": {
            "text/plain": [
              "768.7744360902255"
            ]
          },
          "execution_count": 13,
          "metadata": {},
          "output_type": "execute_result"
        }
      ],
      "source": [
        "# среднее значение\n",
        "df_new['count'].unique().mean()"
      ]
    },
    {
      "cell_type": "code",
      "execution_count": 14,
      "metadata": {
        "colab": {
          "base_uri": "https://localhost:8080/"
        },
        "id": "DQ_sRj3AR952",
        "outputId": "88011ce2-226c-4d58-e11b-e9980d2e41fa"
      },
      "outputs": [
        {
          "name": "stdout",
          "output_type": "stream",
          "text": [
            "0  =  1\n",
            "1  =  1\n",
            "2  =  1\n",
            "3  =  2\n",
            "4  =  2\n",
            "5  =  2\n",
            "6  =  2\n",
            "7  =  2\n",
            "8  =  3\n",
            "9  =  3\n",
            "10  =  4\n",
            "11  =  4\n",
            "12  =  4\n",
            "13  =  4\n",
            "14  =  5\n",
            "15  =  5\n",
            "16  =  5\n",
            "17  =  5\n",
            "18  =  6\n",
            "19  =  6\n",
            "20  =  6\n",
            "21  =  6\n",
            "22  =  6\n",
            "23  =  6\n",
            "24  =  6\n",
            "25  =  6\n",
            "26  =  6\n",
            "27  =  8\n",
            "28  =  8\n",
            "29  =  8\n",
            "30  =  8\n",
            "31  =  8\n",
            "32  =  9\n",
            "33  =  9\n",
            "34  =  9\n",
            "35  =  9\n",
            "36  =  10\n",
            "37  =  11\n",
            "38  =  11\n",
            "39  =  11\n",
            "40  =  12\n",
            "41  =  13\n",
            "42  =  13\n",
            "43  =  13\n",
            "44  =  13\n",
            "45  =  13\n",
            "46  =  13\n",
            "47  =  14\n",
            "48  =  14\n",
            "49  =  14\n",
            "50  =  15\n",
            "51  =  16\n",
            "52  =  16\n",
            "53  =  18\n",
            "54  =  18\n",
            "55  =  18\n",
            "56  =  18\n",
            "57  =  19\n",
            "58  =  19\n",
            "59  =  20\n",
            "60  =  20\n",
            "61  =  20\n",
            "62  =  21\n",
            "63  =  21\n",
            "64  =  22\n",
            "65  =  22\n",
            "66  =  22\n",
            "67  =  24\n",
            "68  =  24\n",
            "69  =  25\n",
            "70  =  25\n",
            "71  =  25\n",
            "72  =  25\n",
            "73  =  26\n",
            "74  =  32\n",
            "75  =  34\n",
            "76  =  34\n",
            "77  =  35\n",
            "78  =  36\n",
            "79  =  42\n",
            "80  =  42\n",
            "81  =  43\n",
            "82  =  45\n",
            "83  =  51\n",
            "84  =  51\n",
            "85  =  55\n",
            "86  =  57\n",
            "87  =  58\n",
            "88  =  61\n",
            "89  =  68\n",
            "90  =  68\n",
            "91  =  71\n",
            "92  =  72\n",
            "93  =  74\n",
            "94  =  74\n",
            "95  =  75\n",
            "96  =  75\n",
            "97  =  81\n",
            "98  =  83\n",
            "99  =  85\n",
            "100  =  85\n",
            "101  =  85\n",
            "102  =  87\n",
            "103  =  88\n",
            "104  =  90\n",
            "105  =  93\n",
            "106  =  96\n",
            "107  =  96\n",
            "108  =  98\n",
            "109  =  99\n",
            "110  =  101\n",
            "111  =  103\n",
            "112  =  103\n",
            "113  =  104\n",
            "114  =  106\n",
            "115  =  119\n",
            "116  =  124\n",
            "117  =  126\n",
            "118  =  138\n",
            "119  =  144\n",
            "120  =  146\n",
            "121  =  147\n",
            "122  =  147\n",
            "123  =  155\n",
            "124  =  156\n",
            "125  =  158\n",
            "126  =  160\n",
            "127  =  164\n",
            "128  =  165\n",
            "129  =  174\n",
            "130  =  175\n",
            "131  =  176\n",
            "132  =  178\n",
            "133  =  178\n",
            "134  =  180\n",
            "135  =  183\n",
            "136  =  190\n",
            "137  =  191\n",
            "138  =  199\n",
            "139  =  203\n",
            "140  =  208\n",
            "141  =  208\n",
            "142  =  227\n",
            "143  =  234\n",
            "144  =  261\n",
            "145  =  272\n",
            "146  =  275\n",
            "147  =  310\n",
            "148  =  310\n",
            "149  =  313\n",
            "150  =  334\n",
            "151  =  339\n",
            "152  =  341\n",
            "153  =  353\n",
            "154  =  366\n",
            "155  =  384\n",
            "156  =  385\n",
            "157  =  432\n",
            "158  =  437\n",
            "159  =  473\n",
            "160  =  477\n",
            "161  =  533\n",
            "162  =  543\n",
            "163  =  544\n",
            "164  =  548\n",
            "165  =  576\n",
            "166  =  635\n",
            "167  =  694\n",
            "168  =  814\n",
            "169  =  828\n",
            "170  =  943\n",
            "171  =  995\n",
            "172  =  997\n",
            "173  =  1007\n",
            "174  =  1024\n",
            "175  =  1027\n",
            "176  =  1054\n",
            "177  =  1075\n",
            "178  =  1104\n",
            "179  =  1166\n",
            "180  =  1190\n",
            "181  =  1191\n",
            "182  =  1208\n",
            "183  =  1256\n",
            "184  =  1390\n",
            "185  =  1493\n",
            "186  =  1592\n",
            "187  =  1803\n",
            "188  =  2007\n",
            "189  =  2197\n",
            "190  =  2333\n",
            "191  =  2787\n",
            "192  =  3558\n",
            "193  =  4095\n",
            "194  =  4944\n",
            "195  =  5172\n",
            "196  =  10961\n",
            "197  =  24264\n"
          ]
        }
      ],
      "source": [
        "for index, row in df_new.iterrows():\n",
        "  print(index, \" = \", row['count'])"
      ]
    },
    {
      "cell_type": "code",
      "execution_count": 15,
      "metadata": {
        "colab": {
          "base_uri": "https://localhost:8080/"
        },
        "id": "1rXv0SNxaKZi",
        "outputId": "1a377904-c9c0-4ca7-eb36-ef0ca5183bfb"
      },
      "outputs": [
        {
          "data": {
            "text/plain": [
              "count\n",
              "6        9\n",
              "13       6\n",
              "8        5\n",
              "2        5\n",
              "18       4\n",
              "        ..\n",
              "138      1\n",
              "126      1\n",
              "124      1\n",
              "119      1\n",
              "24264    1\n",
              "Name: count, Length: 133, dtype: int64"
            ]
          },
          "execution_count": 15,
          "metadata": {},
          "output_type": "execute_result"
        }
      ],
      "source": [
        "df_new['count'].value_counts()"
      ]
    },
    {
      "cell_type": "code",
      "execution_count": 16,
      "metadata": {
        "colab": {
          "base_uri": "https://localhost:8080/"
        },
        "id": "fYl9saugeYxP",
        "outputId": "bac88879-5eeb-4f94-92f1-956c687a35c0"
      },
      "outputs": [
        {
          "data": {
            "text/plain": [
              "sign_class\n",
              "5_19_1       24264\n",
              "2_1          10961\n",
              "5_16          5172\n",
              "5_15_2        4944\n",
              "2_4           4095\n",
              "             ...  \n",
              "8_3_3            2\n",
              "3_13_r3.7        2\n",
              "2_3_5            1\n",
              "3_33             1\n",
              "3_13_r3.3        1\n",
              "Name: count, Length: 198, dtype: int64"
            ]
          },
          "execution_count": 16,
          "metadata": {},
          "output_type": "execute_result"
        }
      ],
      "source": [
        "df['sign_class'].value_counts()"
      ]
    },
    {
      "cell_type": "code",
      "execution_count": 17,
      "metadata": {
        "colab": {
          "base_uri": "https://localhost:8080/",
          "height": 542
        },
        "id": "joa8WhgIedXF",
        "outputId": "cfaa0276-f32e-4650-be84-455795b3fdc4"
      },
      "outputs": [
        {
          "data": {
            "text/html": [
              "<html>\n",
              "<head><meta charset=\"utf-8\" /></head>\n",
              "<body>\n",
              "    <div>            <script src=\"https://cdnjs.cloudflare.com/ajax/libs/mathjax/2.7.5/MathJax.js?config=TeX-AMS-MML_SVG\"></script><script type=\"text/javascript\">if (window.MathJax && window.MathJax.Hub && window.MathJax.Hub.Config) {window.MathJax.Hub.Config({SVG: {font: \"STIX-Web\"}});}</script>                <script type=\"text/javascript\">window.PlotlyConfig = {MathJaxConfig: 'local'};</script>\n",
              "        <script src=\"https://cdn.plot.ly/plotly-2.12.1.min.js\"></script>                <div id=\"0aed84c1-92fd-426b-bf26-63c00463a929\" class=\"plotly-graph-div\" style=\"height:525px; width:100%;\"></div>            <script type=\"text/javascript\">                                    window.PLOTLYENV=window.PLOTLYENV || {};                                    if (document.getElementById(\"0aed84c1-92fd-426b-bf26-63c00463a929\")) {                    Plotly.newPlot(                        \"0aed84c1-92fd-426b-bf26-63c00463a929\",                        [{\"alignmentgroup\":\"True\",\"hovertemplate\":\"sign_class=%{x}<br>count=%{y}<extra></extra>\",\"legendgroup\":\"\",\"marker\":{\"color\":\"blue\",\"pattern\":{\"shape\":\"\"}},\"name\":\"\",\"offsetgroup\":\"\",\"orientation\":\"v\",\"showlegend\":false,\"textposition\":\"auto\",\"x\":[\"5_19_1\",\"2_1\",\"5_16\",\"5_15_2\",\"2_4\",\"3_27\",\"1_23\",\"4_1_1\",\"3_24_n40\",\"5_20\",\"3_20\",\"5_15_3\",\"5_15_1\",\"5_15_2_2\",\"1_17\",\"5_15_5\",\"4_2_1\",\"4_2_3\",\"4_1_4\",\"7_3\",\"6_4\",\"6_16\",\"5_5\",\"1_25\",\"8_2_1\",\"2_3_2\",\"3_1\",\"1_22\",\"3_24_n20\",\"6_6\",\"8_13\",\"2_3_3\",\"3_4_1\",\"2_2\",\"2_5\",\"4_2_2\",\"5_6\",\"1_11_1\",\"4_1_2\",\"5_15_7\",\"2_3\",\"1_11\",\"1_20_2\",\"3_21\",\"1_8\",\"1_16\",\"3_28\",\"7_5\",\"8_15\",\"5_14\",\"1_2\",\"3_24_n50\",\"3_18\",\"6_3_1\",\"3_24_n5\",\"1_15\",\"1_1\",\"4_1_5\",\"8_1_1\",\"4_1_2_1\",\"1_12\",\"3_18_2\",\"3_31\",\"8_3_1\",\"1_12_2\",\"3_2\",\"6_15_1\",\"7_2\",\"4_3\",\"3_24_n70\",\"7_7\",\"3_13_r4.5\",\"5_7_1\",\"4_1_2_2\",\"5_7_2\",\"8_13_1\",\"7_12\",\"3_24_n30\",\"7_4\",\"7_11\",\"1_33\",\"3_24_n80\",\"8_2_2\",\"8_2_4\",\"1_14\",\"3_24_n60\",\"3_32\",\"1_20_3\",\"5_3\",\"1_21\",\"6_7\",\"1_20\",\"8_2_3\",\"8_5_4\",\"1_27\",\"3_25_n40\",\"5_11\",\"1_5\",\"3_29\",\"2_6\",\"8_5_2\",\"1_13\",\"4_1_6\",\"4_8_2\",\"6_2_n50\",\"8_3_2\",\"3_25_n20\",\"3_19\",\"7_6\",\"4_1_3\",\"3_30\",\"5_21\",\"7_1\",\"3_10\",\"8_4_1\",\"1_19\",\"5_22\",\"6_2_n20\",\"8_6_4\",\"6_15_2\",\"3_4_n8\",\"5_8\",\"8_1_4\",\"3_24_n10\",\"8_1_3\",\"6_2_n60\",\"8_4_4\",\"8_6_2\",\"8_18\",\"3_11_n5\",\"8_8\",\"3_11_n20\",\"3_13_r4.1\",\"1_10\",\"3_13_r3.5\",\"3_13_r3\",\"5_18\",\"6_2_n70\",\"1_18\",\"7_15\",\"1_31\",\"8_17\",\"3_13_r4\",\"3_25_n50\",\"3_12_n10\",\"1_6\",\"3_11_n8\",\"1_7\",\"3_14_r3.5\",\"3_6\",\"5_4\",\"4_8_3\",\"1_26\",\"3_12_n6\",\"2_3_4\",\"3_11_n13\",\"6_8_2\",\"6_8_3\",\"1_30\",\"2_3_6\",\"3_14_r3\",\"5_17\",\"5_12\",\"3_4_n5\",\"3_13_r5\",\"7_14\",\"3_14_r2.7\",\"3_16_n1\",\"8_4_3\",\"2_7\",\"3_4_n2\",\"3_25_n70\",\"3_11_n23\",\"3_25_n80\",\"3_13_r4.3\",\"3_12_n5\",\"3_11_n9\",\"3_12_n3\",\"7_18\",\"6_2_n40\",\"3_11_n17\",\"3_13_r4.2\",\"3_13_r3.9\",\"6_8_1\",\"6_15_3\",\"8_14\",\"3_14_r3.7\",\"3_16_n3\",\"8_23\",\"8_16\",\"3_13_r2.5\",\"4_5\",\"3_13_r3.7\",\"8_3_3\",\"3_13_r5.2\",\"2_3_5\",\"3_33\",\"3_13_r3.3\"],\"xaxis\":\"x\",\"y\":[24264,10961,5172,4944,4095,3558,2787,2333,2197,2007,1803,1592,1493,1390,1256,1208,1191,1190,1166,1104,1075,1054,1027,1024,1007,997,995,943,828,814,694,635,576,548,544,543,533,477,473,437,432,385,384,366,353,341,339,334,313,310,310,275,272,261,234,227,208,208,203,199,191,190,183,180,178,178,176,175,174,165,164,160,158,156,155,147,147,146,144,138,126,124,119,106,104,103,103,101,99,98,96,96,93,90,88,87,85,85,85,83,81,75,75,74,74,72,71,68,68,61,58,57,55,51,51,45,43,42,42,36,35,34,34,32,26,25,25,25,25,24,24,22,22,22,21,21,20,20,20,19,19,18,18,18,18,16,16,15,14,14,14,13,13,13,13,13,13,12,11,11,11,10,9,9,9,9,8,8,8,8,8,6,6,6,6,6,6,6,6,6,5,5,5,5,4,4,4,4,3,3,2,2,2,2,2,1,1,1],\"yaxis\":\"y\",\"type\":\"bar\"}],                        {\"template\":{\"data\":{\"histogram2dcontour\":[{\"type\":\"histogram2dcontour\",\"colorbar\":{\"outlinewidth\":0,\"ticks\":\"\"},\"colorscale\":[[0.0,\"#0d0887\"],[0.1111111111111111,\"#46039f\"],[0.2222222222222222,\"#7201a8\"],[0.3333333333333333,\"#9c179e\"],[0.4444444444444444,\"#bd3786\"],[0.5555555555555556,\"#d8576b\"],[0.6666666666666666,\"#ed7953\"],[0.7777777777777778,\"#fb9f3a\"],[0.8888888888888888,\"#fdca26\"],[1.0,\"#f0f921\"]]}],\"choropleth\":[{\"type\":\"choropleth\",\"colorbar\":{\"outlinewidth\":0,\"ticks\":\"\"}}],\"histogram2d\":[{\"type\":\"histogram2d\",\"colorbar\":{\"outlinewidth\":0,\"ticks\":\"\"},\"colorscale\":[[0.0,\"#0d0887\"],[0.1111111111111111,\"#46039f\"],[0.2222222222222222,\"#7201a8\"],[0.3333333333333333,\"#9c179e\"],[0.4444444444444444,\"#bd3786\"],[0.5555555555555556,\"#d8576b\"],[0.6666666666666666,\"#ed7953\"],[0.7777777777777778,\"#fb9f3a\"],[0.8888888888888888,\"#fdca26\"],[1.0,\"#f0f921\"]]}],\"heatmap\":[{\"type\":\"heatmap\",\"colorbar\":{\"outlinewidth\":0,\"ticks\":\"\"},\"colorscale\":[[0.0,\"#0d0887\"],[0.1111111111111111,\"#46039f\"],[0.2222222222222222,\"#7201a8\"],[0.3333333333333333,\"#9c179e\"],[0.4444444444444444,\"#bd3786\"],[0.5555555555555556,\"#d8576b\"],[0.6666666666666666,\"#ed7953\"],[0.7777777777777778,\"#fb9f3a\"],[0.8888888888888888,\"#fdca26\"],[1.0,\"#f0f921\"]]}],\"heatmapgl\":[{\"type\":\"heatmapgl\",\"colorbar\":{\"outlinewidth\":0,\"ticks\":\"\"},\"colorscale\":[[0.0,\"#0d0887\"],[0.1111111111111111,\"#46039f\"],[0.2222222222222222,\"#7201a8\"],[0.3333333333333333,\"#9c179e\"],[0.4444444444444444,\"#bd3786\"],[0.5555555555555556,\"#d8576b\"],[0.6666666666666666,\"#ed7953\"],[0.7777777777777778,\"#fb9f3a\"],[0.8888888888888888,\"#fdca26\"],[1.0,\"#f0f921\"]]}],\"contourcarpet\":[{\"type\":\"contourcarpet\",\"colorbar\":{\"outlinewidth\":0,\"ticks\":\"\"}}],\"contour\":[{\"type\":\"contour\",\"colorbar\":{\"outlinewidth\":0,\"ticks\":\"\"},\"colorscale\":[[0.0,\"#0d0887\"],[0.1111111111111111,\"#46039f\"],[0.2222222222222222,\"#7201a8\"],[0.3333333333333333,\"#9c179e\"],[0.4444444444444444,\"#bd3786\"],[0.5555555555555556,\"#d8576b\"],[0.6666666666666666,\"#ed7953\"],[0.7777777777777778,\"#fb9f3a\"],[0.8888888888888888,\"#fdca26\"],[1.0,\"#f0f921\"]]}],\"surface\":[{\"type\":\"surface\",\"colorbar\":{\"outlinewidth\":0,\"ticks\":\"\"},\"colorscale\":[[0.0,\"#0d0887\"],[0.1111111111111111,\"#46039f\"],[0.2222222222222222,\"#7201a8\"],[0.3333333333333333,\"#9c179e\"],[0.4444444444444444,\"#bd3786\"],[0.5555555555555556,\"#d8576b\"],[0.6666666666666666,\"#ed7953\"],[0.7777777777777778,\"#fb9f3a\"],[0.8888888888888888,\"#fdca26\"],[1.0,\"#f0f921\"]]}],\"mesh3d\":[{\"type\":\"mesh3d\",\"colorbar\":{\"outlinewidth\":0,\"ticks\":\"\"}}],\"scatter\":[{\"fillpattern\":{\"fillmode\":\"overlay\",\"size\":10,\"solidity\":0.2},\"type\":\"scatter\"}],\"parcoords\":[{\"type\":\"parcoords\",\"line\":{\"colorbar\":{\"outlinewidth\":0,\"ticks\":\"\"}}}],\"scatterpolargl\":[{\"type\":\"scatterpolargl\",\"marker\":{\"colorbar\":{\"outlinewidth\":0,\"ticks\":\"\"}}}],\"bar\":[{\"error_x\":{\"color\":\"#2a3f5f\"},\"error_y\":{\"color\":\"#2a3f5f\"},\"marker\":{\"line\":{\"color\":\"#E5ECF6\",\"width\":0.5},\"pattern\":{\"fillmode\":\"overlay\",\"size\":10,\"solidity\":0.2}},\"type\":\"bar\"}],\"scattergeo\":[{\"type\":\"scattergeo\",\"marker\":{\"colorbar\":{\"outlinewidth\":0,\"ticks\":\"\"}}}],\"scatterpolar\":[{\"type\":\"scatterpolar\",\"marker\":{\"colorbar\":{\"outlinewidth\":0,\"ticks\":\"\"}}}],\"histogram\":[{\"marker\":{\"pattern\":{\"fillmode\":\"overlay\",\"size\":10,\"solidity\":0.2}},\"type\":\"histogram\"}],\"scattergl\":[{\"type\":\"scattergl\",\"marker\":{\"colorbar\":{\"outlinewidth\":0,\"ticks\":\"\"}}}],\"scatter3d\":[{\"type\":\"scatter3d\",\"line\":{\"colorbar\":{\"outlinewidth\":0,\"ticks\":\"\"}},\"marker\":{\"colorbar\":{\"outlinewidth\":0,\"ticks\":\"\"}}}],\"scattermapbox\":[{\"type\":\"scattermapbox\",\"marker\":{\"colorbar\":{\"outlinewidth\":0,\"ticks\":\"\"}}}],\"scatterternary\":[{\"type\":\"scatterternary\",\"marker\":{\"colorbar\":{\"outlinewidth\":0,\"ticks\":\"\"}}}],\"scattercarpet\":[{\"type\":\"scattercarpet\",\"marker\":{\"colorbar\":{\"outlinewidth\":0,\"ticks\":\"\"}}}],\"carpet\":[{\"aaxis\":{\"endlinecolor\":\"#2a3f5f\",\"gridcolor\":\"white\",\"linecolor\":\"white\",\"minorgridcolor\":\"white\",\"startlinecolor\":\"#2a3f5f\"},\"baxis\":{\"endlinecolor\":\"#2a3f5f\",\"gridcolor\":\"white\",\"linecolor\":\"white\",\"minorgridcolor\":\"white\",\"startlinecolor\":\"#2a3f5f\"},\"type\":\"carpet\"}],\"table\":[{\"cells\":{\"fill\":{\"color\":\"#EBF0F8\"},\"line\":{\"color\":\"white\"}},\"header\":{\"fill\":{\"color\":\"#C8D4E3\"},\"line\":{\"color\":\"white\"}},\"type\":\"table\"}],\"barpolar\":[{\"marker\":{\"line\":{\"color\":\"#E5ECF6\",\"width\":0.5},\"pattern\":{\"fillmode\":\"overlay\",\"size\":10,\"solidity\":0.2}},\"type\":\"barpolar\"}],\"pie\":[{\"automargin\":true,\"type\":\"pie\"}]},\"layout\":{\"autotypenumbers\":\"strict\",\"colorway\":[\"#636efa\",\"#EF553B\",\"#00cc96\",\"#ab63fa\",\"#FFA15A\",\"#19d3f3\",\"#FF6692\",\"#B6E880\",\"#FF97FF\",\"#FECB52\"],\"font\":{\"color\":\"#2a3f5f\"},\"hovermode\":\"closest\",\"hoverlabel\":{\"align\":\"left\"},\"paper_bgcolor\":\"white\",\"plot_bgcolor\":\"#E5ECF6\",\"polar\":{\"bgcolor\":\"#E5ECF6\",\"angularaxis\":{\"gridcolor\":\"white\",\"linecolor\":\"white\",\"ticks\":\"\"},\"radialaxis\":{\"gridcolor\":\"white\",\"linecolor\":\"white\",\"ticks\":\"\"}},\"ternary\":{\"bgcolor\":\"#E5ECF6\",\"aaxis\":{\"gridcolor\":\"white\",\"linecolor\":\"white\",\"ticks\":\"\"},\"baxis\":{\"gridcolor\":\"white\",\"linecolor\":\"white\",\"ticks\":\"\"},\"caxis\":{\"gridcolor\":\"white\",\"linecolor\":\"white\",\"ticks\":\"\"}},\"coloraxis\":{\"colorbar\":{\"outlinewidth\":0,\"ticks\":\"\"}},\"colorscale\":{\"sequential\":[[0.0,\"#0d0887\"],[0.1111111111111111,\"#46039f\"],[0.2222222222222222,\"#7201a8\"],[0.3333333333333333,\"#9c179e\"],[0.4444444444444444,\"#bd3786\"],[0.5555555555555556,\"#d8576b\"],[0.6666666666666666,\"#ed7953\"],[0.7777777777777778,\"#fb9f3a\"],[0.8888888888888888,\"#fdca26\"],[1.0,\"#f0f921\"]],\"sequentialminus\":[[0.0,\"#0d0887\"],[0.1111111111111111,\"#46039f\"],[0.2222222222222222,\"#7201a8\"],[0.3333333333333333,\"#9c179e\"],[0.4444444444444444,\"#bd3786\"],[0.5555555555555556,\"#d8576b\"],[0.6666666666666666,\"#ed7953\"],[0.7777777777777778,\"#fb9f3a\"],[0.8888888888888888,\"#fdca26\"],[1.0,\"#f0f921\"]],\"diverging\":[[0,\"#8e0152\"],[0.1,\"#c51b7d\"],[0.2,\"#de77ae\"],[0.3,\"#f1b6da\"],[0.4,\"#fde0ef\"],[0.5,\"#f7f7f7\"],[0.6,\"#e6f5d0\"],[0.7,\"#b8e186\"],[0.8,\"#7fbc41\"],[0.9,\"#4d9221\"],[1,\"#276419\"]]},\"xaxis\":{\"gridcolor\":\"white\",\"linecolor\":\"white\",\"ticks\":\"\",\"title\":{\"standoff\":15},\"zerolinecolor\":\"white\",\"automargin\":true,\"zerolinewidth\":2},\"yaxis\":{\"gridcolor\":\"white\",\"linecolor\":\"white\",\"ticks\":\"\",\"title\":{\"standoff\":15},\"zerolinecolor\":\"white\",\"automargin\":true,\"zerolinewidth\":2},\"scene\":{\"xaxis\":{\"backgroundcolor\":\"#E5ECF6\",\"gridcolor\":\"white\",\"linecolor\":\"white\",\"showbackground\":true,\"ticks\":\"\",\"zerolinecolor\":\"white\",\"gridwidth\":2},\"yaxis\":{\"backgroundcolor\":\"#E5ECF6\",\"gridcolor\":\"white\",\"linecolor\":\"white\",\"showbackground\":true,\"ticks\":\"\",\"zerolinecolor\":\"white\",\"gridwidth\":2},\"zaxis\":{\"backgroundcolor\":\"#E5ECF6\",\"gridcolor\":\"white\",\"linecolor\":\"white\",\"showbackground\":true,\"ticks\":\"\",\"zerolinecolor\":\"white\",\"gridwidth\":2}},\"shapedefaults\":{\"line\":{\"color\":\"#2a3f5f\"}},\"annotationdefaults\":{\"arrowcolor\":\"#2a3f5f\",\"arrowhead\":0,\"arrowwidth\":1},\"geo\":{\"bgcolor\":\"white\",\"landcolor\":\"#E5ECF6\",\"subunitcolor\":\"white\",\"showland\":true,\"showlakes\":true,\"lakecolor\":\"white\"},\"title\":{\"x\":0.05},\"mapbox\":{\"style\":\"light\"}}},\"xaxis\":{\"anchor\":\"y\",\"domain\":[0.0,1.0],\"title\":{\"text\":\"sign_class\"}},\"yaxis\":{\"anchor\":\"x\",\"domain\":[0.0,1.0],\"title\":{\"text\":\"count\"}},\"legend\":{\"tracegroupgap\":0},\"title\":{\"text\":\"Distribution of sign_class\"},\"barmode\":\"relative\"},                        {\"responsive\": true}                    ).then(function(){\n",
              "                            \n",
              "var gd = document.getElementById('0aed84c1-92fd-426b-bf26-63c00463a929');\n",
              "var x = new MutationObserver(function (mutations, observer) {{\n",
              "        var display = window.getComputedStyle(gd).display;\n",
              "        if (!display || display === 'none') {{\n",
              "            console.log([gd, 'removed!']);\n",
              "            Plotly.purge(gd);\n",
              "            observer.disconnect();\n",
              "        }}\n",
              "}});\n",
              "\n",
              "// Listen for the removal of the full notebook cells\n",
              "var notebookContainer = gd.closest('#notebook-container');\n",
              "if (notebookContainer) {{\n",
              "    x.observe(notebookContainer, {childList: true});\n",
              "}}\n",
              "\n",
              "// Listen for the clearing of the current output cell\n",
              "var outputEl = gd.closest('.output');\n",
              "if (outputEl) {{\n",
              "    x.observe(outputEl, {childList: true});\n",
              "}}\n",
              "\n",
              "                        })                };                            </script>        </div>\n",
              "</body>\n",
              "</html>"
            ]
          },
          "metadata": {},
          "output_type": "display_data"
        }
      ],
      "source": [
        "grouped_data = labels.groupby('sign_class').size().reset_index(name='count')\n",
        "grouped_data = grouped_data.sort_values(by='count', ascending=False)\n",
        "fig = px.bar(grouped_data, x='sign_class' ,y ='count', labels={'sign_class': 'sign_class'}, color_discrete_sequence=['blue'], title=f'Distribution of sign_class')\n",
        "fig.show()"
      ]
    },
    {
      "cell_type": "code",
      "execution_count": 18,
      "metadata": {
        "colab": {
          "base_uri": "https://localhost:8080/",
          "height": 424
        },
        "id": "ttfrmi56bt5Y",
        "outputId": "8381ebdb-ef7b-4235-f08a-cd162f1c8762"
      },
      "outputs": [
        {
          "data": {
            "text/html": [
              "<div>\n",
              "<style scoped>\n",
              "    .dataframe tbody tr th:only-of-type {\n",
              "        vertical-align: middle;\n",
              "    }\n",
              "\n",
              "    .dataframe tbody tr th {\n",
              "        vertical-align: top;\n",
              "    }\n",
              "\n",
              "    .dataframe thead th {\n",
              "        text-align: right;\n",
              "    }\n",
              "</style>\n",
              "<table border=\"1\" class=\"dataframe\">\n",
              "  <thead>\n",
              "    <tr style=\"text-align: right;\">\n",
              "      <th></th>\n",
              "      <th>sign_class</th>\n",
              "      <th>count</th>\n",
              "    </tr>\n",
              "  </thead>\n",
              "  <tbody>\n",
              "    <tr>\n",
              "      <th>0</th>\n",
              "      <td>3_13_r3.3</td>\n",
              "      <td>1</td>\n",
              "    </tr>\n",
              "    <tr>\n",
              "      <th>1</th>\n",
              "      <td>2_3_5</td>\n",
              "      <td>1</td>\n",
              "    </tr>\n",
              "    <tr>\n",
              "      <th>2</th>\n",
              "      <td>3_33</td>\n",
              "      <td>1</td>\n",
              "    </tr>\n",
              "    <tr>\n",
              "      <th>3</th>\n",
              "      <td>3_13_r5.2</td>\n",
              "      <td>2</td>\n",
              "    </tr>\n",
              "    <tr>\n",
              "      <th>4</th>\n",
              "      <td>3_13_r3.7</td>\n",
              "      <td>2</td>\n",
              "    </tr>\n",
              "    <tr>\n",
              "      <th>...</th>\n",
              "      <td>...</td>\n",
              "      <td>...</td>\n",
              "    </tr>\n",
              "    <tr>\n",
              "      <th>193</th>\n",
              "      <td>2_4</td>\n",
              "      <td>4095</td>\n",
              "    </tr>\n",
              "    <tr>\n",
              "      <th>194</th>\n",
              "      <td>5_15_2</td>\n",
              "      <td>4944</td>\n",
              "    </tr>\n",
              "    <tr>\n",
              "      <th>195</th>\n",
              "      <td>5_16</td>\n",
              "      <td>5172</td>\n",
              "    </tr>\n",
              "    <tr>\n",
              "      <th>196</th>\n",
              "      <td>2_1</td>\n",
              "      <td>10961</td>\n",
              "    </tr>\n",
              "    <tr>\n",
              "      <th>197</th>\n",
              "      <td>5_19_1</td>\n",
              "      <td>24264</td>\n",
              "    </tr>\n",
              "  </tbody>\n",
              "</table>\n",
              "<p>198 rows × 2 columns</p>\n",
              "</div>"
            ],
            "text/plain": [
              "    sign_class  count\n",
              "0    3_13_r3.3      1\n",
              "1        2_3_5      1\n",
              "2         3_33      1\n",
              "3    3_13_r5.2      2\n",
              "4    3_13_r3.7      2\n",
              "..         ...    ...\n",
              "193        2_4   4095\n",
              "194     5_15_2   4944\n",
              "195       5_16   5172\n",
              "196        2_1  10961\n",
              "197     5_19_1  24264\n",
              "\n",
              "[198 rows x 2 columns]"
            ]
          },
          "execution_count": 18,
          "metadata": {},
          "output_type": "execute_result"
        }
      ],
      "source": [
        "df_new.loc[df['count'] == 1]"
      ]
    }
  ],
  "metadata": {
    "colab": {
      "provenance": []
    },
    "kernelspec": {
      "display_name": "Python 3",
      "name": "python3"
    },
    "language_info": {
      "codemirror_mode": {
        "name": "ipython",
        "version": 3
      },
      "file_extension": ".py",
      "mimetype": "text/x-python",
      "name": "python",
      "nbconvert_exporter": "python",
      "pygments_lexer": "ipython3",
      "version": "3.9.18"
    }
  },
  "nbformat": 4,
  "nbformat_minor": 0
}
