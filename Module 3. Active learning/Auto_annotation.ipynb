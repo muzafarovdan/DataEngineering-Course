{
 "cells": [
  {
   "cell_type": "code",
   "execution_count": 94,
   "id": "dff35334",
   "metadata": {},
   "outputs": [],
   "source": [
    "# pip install opencv-python\n",
    "# pip install ultralytics"
   ]
  },
  {
   "cell_type": "code",
   "execution_count": 95,
   "id": "45ad6aed",
   "metadata": {},
   "outputs": [],
   "source": [
    "import cv2\n",
    "import os\n",
    "from ultralytics import YOLO"
   ]
  },
  {
   "cell_type": "code",
   "execution_count": 96,
   "id": "f8b1884c",
   "metadata": {},
   "outputs": [],
   "source": [
    "model = YOLO('runs/detect/train/weights/best.pt')"
   ]
  },
  {
   "cell_type": "code",
   "execution_count": 97,
   "id": "5e5869bc",
   "metadata": {},
   "outputs": [],
   "source": [
    "def delete_files_in_folder(folder_path):\n",
    "    for root, dirs, files in os.walk(folder_path):\n",
    "        for file_name in files:\n",
    "            file_path = os.path.join(root, file_name)\n",
    "            try:\n",
    "                os.unlink(file_path)\n",
    "            except Exception as e:\n",
    "                print(f\"Error deleting file: {file_path} -- {e}\")"
   ]
  },
  {
   "cell_type": "code",
   "execution_count": 98,
   "metadata": {},
   "outputs": [
    {
     "name": "stdout",
     "output_type": "stream",
     "text": [
      "['8.png', '9.png', '11.png', '10.png', '4.png', '5.png', '7.png', '6.png', '2.png', '3.png', '1.png']\n"
     ]
    }
   ],
   "source": [
    "directory = '/Users/muzafarov/Desktop/MyEducation/DataEngineering-Course/Module 3. Active learning/new_image'\n",
    "img_list = os.listdir(directory)\n",
    "if '.DS_Store' in img_list:\n",
    "    os.remove ('/Users/muzafarov/Desktop/MyEducation/DataEngineering-Course/Module 3. Active learning/new_image/.DS_Store')\n",
    "print(img_list)\n"
   ]
  },
  {
   "cell_type": "code",
   "execution_count": 99,
   "id": "dccf4180",
   "metadata": {},
   "outputs": [
    {
     "name": "stdout",
     "output_type": "stream",
     "text": [
      "В папке имеется 11 изображений\n"
     ]
    }
   ],
   "source": [
    "train_images_path = '/Users/muzafarov/Desktop/MyEducation/DataEngineering-Course/Module 3. Active learning/my_dataset_yolo/images/train'\n",
    "print(f\"В папке имеется {len(img_list)} изображений\")"
   ]
  },
  {
   "cell_type": "code",
   "execution_count": 100,
   "id": "9090dad7",
   "metadata": {},
   "outputs": [],
   "source": [
    "delete_files_in_folder('/Users/muzafarov/Desktop/MyEducation/DataEngineering-Course/Module 3. Active learning/my_dataset_yolo/images/train')\n",
    "delete_files_in_folder('/Users/muzafarov/Desktop/MyEducation/DataEngineering-Course/Module 3. Active learning/my_dataset_yolo/labels/train')"
   ]
  },
  {
   "cell_type": "code",
   "execution_count": 101,
   "id": "7658c63e",
   "metadata": {},
   "outputs": [
    {
     "name": "stdout",
     "output_type": "stream",
     "text": [
      "/Users/muzafarov/Desktop/MyEducation/DataEngineering-Course/Module 3. Active learning/new_image/8.png\n",
      "\n",
      "0: 416x640 1 bird, 358.2ms\n",
      "Speed: 3.2ms preprocess, 358.2ms inference, 0.6ms postprocess per image at shape (1, 3, 416, 640)\n",
      "/Users/muzafarov/Desktop/MyEducation/DataEngineering-Course/Module 3. Active learning/new_image/9.png\n",
      "\n",
      "0: 416x640 2 birds, 191.5ms\n",
      "Speed: 3.6ms preprocess, 191.5ms inference, 0.3ms postprocess per image at shape (1, 3, 416, 640)\n",
      "/Users/muzafarov/Desktop/MyEducation/DataEngineering-Course/Module 3. Active learning/new_image/11.png\n",
      "\n",
      "0: 416x640 3 birds, 182.3ms\n",
      "Speed: 1.6ms preprocess, 182.3ms inference, 0.5ms postprocess per image at shape (1, 3, 416, 640)\n",
      "/Users/muzafarov/Desktop/MyEducation/DataEngineering-Course/Module 3. Active learning/new_image/10.png\n",
      "\n",
      "0: 416x640 2 birds, 171.2ms\n",
      "Speed: 1.6ms preprocess, 171.2ms inference, 0.5ms postprocess per image at shape (1, 3, 416, 640)\n",
      "/Users/muzafarov/Desktop/MyEducation/DataEngineering-Course/Module 3. Active learning/new_image/4.png\n",
      "\n",
      "0: 416x640 1 bird, 172.6ms\n",
      "Speed: 1.6ms preprocess, 172.6ms inference, 0.4ms postprocess per image at shape (1, 3, 416, 640)\n",
      "/Users/muzafarov/Desktop/MyEducation/DataEngineering-Course/Module 3. Active learning/new_image/5.png\n",
      "\n",
      "0: 416x640 2 birds, 191.0ms\n",
      "Speed: 1.6ms preprocess, 191.0ms inference, 1.0ms postprocess per image at shape (1, 3, 416, 640)\n",
      "/Users/muzafarov/Desktop/MyEducation/DataEngineering-Course/Module 3. Active learning/new_image/7.png\n",
      "\n",
      "0: 416x640 (no detections), 167.9ms\n",
      "Speed: 1.6ms preprocess, 167.9ms inference, 0.2ms postprocess per image at shape (1, 3, 416, 640)\n",
      "/Users/muzafarov/Desktop/MyEducation/DataEngineering-Course/Module 3. Active learning/new_image/6.png\n",
      "\n",
      "0: 416x640 1 bird, 172.2ms\n",
      "Speed: 1.5ms preprocess, 172.2ms inference, 0.4ms postprocess per image at shape (1, 3, 416, 640)\n",
      "/Users/muzafarov/Desktop/MyEducation/DataEngineering-Course/Module 3. Active learning/new_image/2.png\n",
      "\n",
      "0: 416x640 1 bird, 184.1ms\n",
      "Speed: 2.0ms preprocess, 184.1ms inference, 0.4ms postprocess per image at shape (1, 3, 416, 640)\n",
      "/Users/muzafarov/Desktop/MyEducation/DataEngineering-Course/Module 3. Active learning/new_image/3.png\n",
      "\n",
      "0: 416x640 1 bird, 176.6ms\n",
      "Speed: 1.7ms preprocess, 176.6ms inference, 0.4ms postprocess per image at shape (1, 3, 416, 640)\n",
      "/Users/muzafarov/Desktop/MyEducation/DataEngineering-Course/Module 3. Active learning/new_image/1.png\n",
      "\n",
      "0: 416x640 1 bird, 177.7ms\n",
      "Speed: 2.3ms preprocess, 177.7ms inference, 0.4ms postprocess per image at shape (1, 3, 416, 640)\n"
     ]
    }
   ],
   "source": [
    "for img_name in img_list:\n",
    "    img_filepath = directory +\"/\"+ img_name\n",
    "    print(img_filepath)\n",
    "    img = cv2.imread(img_filepath)\n",
    "    img_copy = img\n",
    "    \n",
    "    # предобработка изображения как перед обучением\n",
    "    # gray = cv2.cvtColor(img, cv2.COLOR_BGR2GRAY)\n",
    "    # gray_three = cv2.merge([gray,gray,gray])\n",
    "    # img = gray_three\n",
    "    \n",
    "    # получаем ширину и высоту картинки\n",
    "    h, w, _ = img.shape\n",
    "    \n",
    "    # получаем предсказания по картинке\n",
    "    results = model.predict(source=img, conf=0.50)\n",
    "    \n",
    "    # расшифровываем объект results\n",
    "    bboxes_ = results[0].boxes.xyxy.tolist()\n",
    "    bboxes = list(map(lambda x: list(map(lambda y: int(y), x)), bboxes_))\n",
    "    confs_ = results[0].boxes.conf.tolist()\n",
    "    confs = list(map(lambda x: int(x*100), confs_))\n",
    "    classes_ = results[0].boxes.cls.tolist()\n",
    "    classes = list(map(lambda x: int(x), classes_))\n",
    "    cls_dict = results[0].names\n",
    "    class_names = list(map(lambda x: cls_dict[x], classes))\n",
    "    \n",
    "    # приводим дешифрированные данные в удобный вид\n",
    "    annot_lines = []\n",
    "    for index, val in enumerate(class_names):\n",
    "        xmin, ymin, xmax, ymax = int(bboxes[index][0]), int(bboxes[index][1]), int(bboxes[index][2]), int(bboxes[index][3])\n",
    "        width = xmax - xmin\n",
    "        height = ymax - ymin\n",
    "        center_x = xmin + (width/2)\n",
    "        center_y = ymin + (height/2) \n",
    "        annotation = f\"{classes[index]} {center_x/w} {center_y/h} {width/w} {height/h}\"\n",
    "        annot_lines.append(annotation)\n",
    "    \n",
    "    # копируем картинку в папку базы изображений для импорта\n",
    "    cv2.imwrite(os.path.join(train_images_path , img_name), img_copy)\n",
    "    \n",
    "    # записываем файл аннотации в папку базы изображений для импорта\n",
    "    txt_name = img_name.replace(\".png\",\".txt\")\n",
    "    with open(f'/Users/muzafarov/Desktop/MyEducation/DataEngineering-Course/Module 3. Active learning/my_dataset_yolo/labels/train/{txt_name}', 'w') as f:\n",
    "        for line in annot_lines:\n",
    "            f.write(line)\n",
    "            f.write('\\n')\n",
    "\n",
    "            \n",
    "        \n",
    "    "
   ]
  },
  {
   "cell_type": "code",
   "execution_count": null,
   "id": "804aee5e",
   "metadata": {},
   "outputs": [],
   "source": []
  }
 ],
 "metadata": {
  "kernelspec": {
   "display_name": "Python 3 (ipykernel)",
   "language": "python",
   "name": "python3"
  },
  "language_info": {
   "codemirror_mode": {
    "name": "ipython",
    "version": 3
   },
   "file_extension": ".py",
   "mimetype": "text/x-python",
   "name": "python",
   "nbconvert_exporter": "python",
   "pygments_lexer": "ipython3",
   "version": "3.10.10"
  }
 },
 "nbformat": 4,
 "nbformat_minor": 5
}
