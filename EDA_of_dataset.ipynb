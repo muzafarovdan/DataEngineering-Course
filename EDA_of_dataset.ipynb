{
 "cells": [
  {
   "cell_type": "code",
   "execution_count": 4,
   "metadata": {},
   "outputs": [],
   "source": [
    "import numpy as np \n",
    "import pandas as pd \n",
    "import os"
   ]
  },
  {
   "cell_type": "code",
   "execution_count": 5,
   "metadata": {},
   "outputs": [
    {
     "name": "stdout",
     "output_type": "stream",
     "text": [
      "['autosave23_10_2012_10_49_21_1.jpg', 'autosave23_10_2012_14_37_01_2.jpg', 'autosave10_10_2012_08_56_20_2.jpg', 'autosave10_10_2012_07_46_04_1.jpg', 'autosave21_01_2013_10_10_47_2.jpg', 'autosave21_01_2013_11_39_34_0.jpg', 'autosave01_02_2012_11_26_17.jpg', 'autosave09_10_2012_09_30_25_1.jpg', 'autosave09_10_2012_13_25_34_3.jpg', 'autosave09_10_2012_12_31_48_0.jpg']\n"
     ]
    }
   ],
   "source": [
    "images = os.listdir('/Users/muzafarov/Desktop/Datasets/RTS/rtsd-frames/rtsd-frames')\n",
    "print(images[:10])"
   ]
  },
  {
   "cell_type": "code",
   "execution_count": 6,
   "metadata": {},
   "outputs": [],
   "source": [
    "json = pd.read_json('/Users/muzafarov/Desktop/Datasets/RTS/train_anno.json', orient='index')"
   ]
  },
  {
   "cell_type": "code",
   "execution_count": 7,
   "metadata": {},
   "outputs": [
    {
     "data": {
      "text/html": [
       "<div>\n",
       "<style scoped>\n",
       "    .dataframe tbody tr th:only-of-type {\n",
       "        vertical-align: middle;\n",
       "    }\n",
       "\n",
       "    .dataframe tbody tr th {\n",
       "        vertical-align: top;\n",
       "    }\n",
       "\n",
       "    .dataframe thead th {\n",
       "        text-align: right;\n",
       "    }\n",
       "</style>\n",
       "<table border=\"1\" class=\"dataframe\">\n",
       "  <thead>\n",
       "    <tr style=\"text-align: right;\">\n",
       "      <th></th>\n",
       "      <th>0</th>\n",
       "      <th>1</th>\n",
       "      <th>2</th>\n",
       "      <th>3</th>\n",
       "      <th>4</th>\n",
       "      <th>5</th>\n",
       "      <th>6</th>\n",
       "      <th>7</th>\n",
       "      <th>8</th>\n",
       "      <th>9</th>\n",
       "      <th>...</th>\n",
       "      <th>95482</th>\n",
       "      <th>95483</th>\n",
       "      <th>95484</th>\n",
       "      <th>95485</th>\n",
       "      <th>95486</th>\n",
       "      <th>95487</th>\n",
       "      <th>95488</th>\n",
       "      <th>95489</th>\n",
       "      <th>95490</th>\n",
       "      <th>95491</th>\n",
       "    </tr>\n",
       "  </thead>\n",
       "  <tbody>\n",
       "    <tr>\n",
       "      <th>images</th>\n",
       "      <td>{'id': 0, 'width': 1280, 'height': 720, 'file_...</td>\n",
       "      <td>{'id': 1, 'width': 1280, 'height': 720, 'file_...</td>\n",
       "      <td>{'id': 2, 'width': 1280, 'height': 720, 'file_...</td>\n",
       "      <td>{'id': 3, 'width': 1280, 'height': 720, 'file_...</td>\n",
       "      <td>{'id': 4, 'width': 1280, 'height': 720, 'file_...</td>\n",
       "      <td>{'id': 5, 'width': 1280, 'height': 720, 'file_...</td>\n",
       "      <td>{'id': 6, 'width': 1280, 'height': 720, 'file_...</td>\n",
       "      <td>{'id': 7, 'width': 1280, 'height': 720, 'file_...</td>\n",
       "      <td>{'id': 8, 'width': 1280, 'height': 720, 'file_...</td>\n",
       "      <td>{'id': 9, 'width': 1280, 'height': 720, 'file_...</td>\n",
       "      <td>...</td>\n",
       "      <td>None</td>\n",
       "      <td>None</td>\n",
       "      <td>None</td>\n",
       "      <td>None</td>\n",
       "      <td>None</td>\n",
       "      <td>None</td>\n",
       "      <td>None</td>\n",
       "      <td>None</td>\n",
       "      <td>None</td>\n",
       "      <td>None</td>\n",
       "    </tr>\n",
       "    <tr>\n",
       "      <th>annotations</th>\n",
       "      <td>{'id': 0, 'image_id': 0, 'category_id': 1, 'ar...</td>\n",
       "      <td>{'id': 1, 'image_id': 1, 'category_id': 1, 'ar...</td>\n",
       "      <td>{'id': 2, 'image_id': 2, 'category_id': 1, 'ar...</td>\n",
       "      <td>{'id': 3, 'image_id': 3, 'category_id': 1, 'ar...</td>\n",
       "      <td>{'id': 4, 'image_id': 3, 'category_id': 2, 'ar...</td>\n",
       "      <td>{'id': 5, 'image_id': 4, 'category_id': 1, 'ar...</td>\n",
       "      <td>{'id': 6, 'image_id': 4, 'category_id': 2, 'ar...</td>\n",
       "      <td>{'id': 7, 'image_id': 5, 'category_id': 2, 'ar...</td>\n",
       "      <td>{'id': 8, 'image_id': 6, 'category_id': 2, 'ar...</td>\n",
       "      <td>{'id': 9, 'image_id': 7, 'category_id': 3, 'ar...</td>\n",
       "      <td>...</td>\n",
       "      <td>{'id': 104348, 'image_id': 59178, 'category_id...</td>\n",
       "      <td>{'id': 104349, 'image_id': 59179, 'category_id...</td>\n",
       "      <td>{'id': 104350, 'image_id': 59180, 'category_id...</td>\n",
       "      <td>{'id': 104351, 'image_id': 59181, 'category_id...</td>\n",
       "      <td>{'id': 104352, 'image_id': 59182, 'category_id...</td>\n",
       "      <td>{'id': 104353, 'image_id': 59183, 'category_id...</td>\n",
       "      <td>{'id': 104354, 'image_id': 59184, 'category_id...</td>\n",
       "      <td>{'id': 104355, 'image_id': 59185, 'category_id...</td>\n",
       "      <td>{'id': 104356, 'image_id': 59186, 'category_id...</td>\n",
       "      <td>{'id': 104357, 'image_id': 59187, 'category_id...</td>\n",
       "    </tr>\n",
       "    <tr>\n",
       "      <th>categories</th>\n",
       "      <td>{'id': 1, 'name': '2_1'}</td>\n",
       "      <td>{'id': 2, 'name': '1_23'}</td>\n",
       "      <td>{'id': 3, 'name': '1_17'}</td>\n",
       "      <td>{'id': 4, 'name': '3_24'}</td>\n",
       "      <td>{'id': 5, 'name': '8_2_1'}</td>\n",
       "      <td>{'id': 6, 'name': '5_20'}</td>\n",
       "      <td>{'id': 7, 'name': '5_19_1'}</td>\n",
       "      <td>{'id': 8, 'name': '5_16'}</td>\n",
       "      <td>{'id': 9, 'name': '3_25'}</td>\n",
       "      <td>{'id': 10, 'name': '6_16'}</td>\n",
       "      <td>...</td>\n",
       "      <td>None</td>\n",
       "      <td>None</td>\n",
       "      <td>None</td>\n",
       "      <td>None</td>\n",
       "      <td>None</td>\n",
       "      <td>None</td>\n",
       "      <td>None</td>\n",
       "      <td>None</td>\n",
       "      <td>None</td>\n",
       "      <td>None</td>\n",
       "    </tr>\n",
       "  </tbody>\n",
       "</table>\n",
       "<p>3 rows × 95492 columns</p>\n",
       "</div>"
      ],
      "text/plain": [
       "                                                         0      \\\n",
       "images       {'id': 0, 'width': 1280, 'height': 720, 'file_...   \n",
       "annotations  {'id': 0, 'image_id': 0, 'category_id': 1, 'ar...   \n",
       "categories                            {'id': 1, 'name': '2_1'}   \n",
       "\n",
       "                                                         1      \\\n",
       "images       {'id': 1, 'width': 1280, 'height': 720, 'file_...   \n",
       "annotations  {'id': 1, 'image_id': 1, 'category_id': 1, 'ar...   \n",
       "categories                           {'id': 2, 'name': '1_23'}   \n",
       "\n",
       "                                                         2      \\\n",
       "images       {'id': 2, 'width': 1280, 'height': 720, 'file_...   \n",
       "annotations  {'id': 2, 'image_id': 2, 'category_id': 1, 'ar...   \n",
       "categories                           {'id': 3, 'name': '1_17'}   \n",
       "\n",
       "                                                         3      \\\n",
       "images       {'id': 3, 'width': 1280, 'height': 720, 'file_...   \n",
       "annotations  {'id': 3, 'image_id': 3, 'category_id': 1, 'ar...   \n",
       "categories                           {'id': 4, 'name': '3_24'}   \n",
       "\n",
       "                                                         4      \\\n",
       "images       {'id': 4, 'width': 1280, 'height': 720, 'file_...   \n",
       "annotations  {'id': 4, 'image_id': 3, 'category_id': 2, 'ar...   \n",
       "categories                          {'id': 5, 'name': '8_2_1'}   \n",
       "\n",
       "                                                         5      \\\n",
       "images       {'id': 5, 'width': 1280, 'height': 720, 'file_...   \n",
       "annotations  {'id': 5, 'image_id': 4, 'category_id': 1, 'ar...   \n",
       "categories                           {'id': 6, 'name': '5_20'}   \n",
       "\n",
       "                                                         6      \\\n",
       "images       {'id': 6, 'width': 1280, 'height': 720, 'file_...   \n",
       "annotations  {'id': 6, 'image_id': 4, 'category_id': 2, 'ar...   \n",
       "categories                         {'id': 7, 'name': '5_19_1'}   \n",
       "\n",
       "                                                         7      \\\n",
       "images       {'id': 7, 'width': 1280, 'height': 720, 'file_...   \n",
       "annotations  {'id': 7, 'image_id': 5, 'category_id': 2, 'ar...   \n",
       "categories                           {'id': 8, 'name': '5_16'}   \n",
       "\n",
       "                                                         8      \\\n",
       "images       {'id': 8, 'width': 1280, 'height': 720, 'file_...   \n",
       "annotations  {'id': 8, 'image_id': 6, 'category_id': 2, 'ar...   \n",
       "categories                           {'id': 9, 'name': '3_25'}   \n",
       "\n",
       "                                                         9      ...  \\\n",
       "images       {'id': 9, 'width': 1280, 'height': 720, 'file_...  ...   \n",
       "annotations  {'id': 9, 'image_id': 7, 'category_id': 3, 'ar...  ...   \n",
       "categories                          {'id': 10, 'name': '6_16'}  ...   \n",
       "\n",
       "                                                         95482  \\\n",
       "images                                                    None   \n",
       "annotations  {'id': 104348, 'image_id': 59178, 'category_id...   \n",
       "categories                                                None   \n",
       "\n",
       "                                                         95483  \\\n",
       "images                                                    None   \n",
       "annotations  {'id': 104349, 'image_id': 59179, 'category_id...   \n",
       "categories                                                None   \n",
       "\n",
       "                                                         95484  \\\n",
       "images                                                    None   \n",
       "annotations  {'id': 104350, 'image_id': 59180, 'category_id...   \n",
       "categories                                                None   \n",
       "\n",
       "                                                         95485  \\\n",
       "images                                                    None   \n",
       "annotations  {'id': 104351, 'image_id': 59181, 'category_id...   \n",
       "categories                                                None   \n",
       "\n",
       "                                                         95486  \\\n",
       "images                                                    None   \n",
       "annotations  {'id': 104352, 'image_id': 59182, 'category_id...   \n",
       "categories                                                None   \n",
       "\n",
       "                                                         95487  \\\n",
       "images                                                    None   \n",
       "annotations  {'id': 104353, 'image_id': 59183, 'category_id...   \n",
       "categories                                                None   \n",
       "\n",
       "                                                         95488  \\\n",
       "images                                                    None   \n",
       "annotations  {'id': 104354, 'image_id': 59184, 'category_id...   \n",
       "categories                                                None   \n",
       "\n",
       "                                                         95489  \\\n",
       "images                                                    None   \n",
       "annotations  {'id': 104355, 'image_id': 59185, 'category_id...   \n",
       "categories                                                None   \n",
       "\n",
       "                                                         95490  \\\n",
       "images                                                    None   \n",
       "annotations  {'id': 104356, 'image_id': 59186, 'category_id...   \n",
       "categories                                                None   \n",
       "\n",
       "                                                         95491  \n",
       "images                                                    None  \n",
       "annotations  {'id': 104357, 'image_id': 59187, 'category_id...  \n",
       "categories                                                None  \n",
       "\n",
       "[3 rows x 95492 columns]"
      ]
     },
     "execution_count": 7,
     "metadata": {},
     "output_type": "execute_result"
    }
   ],
   "source": [
    "json"
   ]
  },
  {
   "cell_type": "code",
   "execution_count": 18,
   "metadata": {},
   "outputs": [
    {
     "data": {
      "text/plain": [
       "0        {'id': 0, 'image_id': 0, 'category_id': 1, 'ar...\n",
       "1        {'id': 1, 'image_id': 1, 'category_id': 1, 'ar...\n",
       "2        {'id': 2, 'image_id': 2, 'category_id': 1, 'ar...\n",
       "3        {'id': 3, 'image_id': 3, 'category_id': 1, 'ar...\n",
       "4        {'id': 4, 'image_id': 3, 'category_id': 2, 'ar...\n",
       "                               ...                        \n",
       "95487    {'id': 104353, 'image_id': 59183, 'category_id...\n",
       "95488    {'id': 104354, 'image_id': 59184, 'category_id...\n",
       "95489    {'id': 104355, 'image_id': 59185, 'category_id...\n",
       "95490    {'id': 104356, 'image_id': 59186, 'category_id...\n",
       "95491    {'id': 104357, 'image_id': 59187, 'category_id...\n",
       "Name: annotations, Length: 95492, dtype: object"
      ]
     },
     "execution_count": 18,
     "metadata": {},
     "output_type": "execute_result"
    }
   ],
   "source": [
    "annotations_json = json.loc['annotations']\n",
    "annotations_json "
   ]
  },
  {
   "cell_type": "code",
   "execution_count": 24,
   "metadata": {},
   "outputs": [
    {
     "data": {
      "text/plain": [
       "{'id': 0,\n",
       " 'image_id': 0,\n",
       " 'category_id': 1,\n",
       " 'area': 324,\n",
       " 'bbox': [649, 376, 18, 18],\n",
       " 'iscrowd': 0}"
      ]
     },
     "execution_count": 24,
     "metadata": {},
     "output_type": "execute_result"
    }
   ],
   "source": [
    "annotations_json[0]"
   ]
  },
  {
   "cell_type": "code",
   "execution_count": 46,
   "metadata": {},
   "outputs": [
    {
     "data": {
      "text/plain": [
       "649"
      ]
     },
     "execution_count": 46,
     "metadata": {},
     "output_type": "execute_result"
    }
   ],
   "source": [
    "annotations_json[0]['bbox'][0]"
   ]
  },
  {
   "cell_type": "code",
   "execution_count": 22,
   "metadata": {},
   "outputs": [
    {
     "data": {
      "text/plain": [
       "95492"
      ]
     },
     "execution_count": 22,
     "metadata": {},
     "output_type": "execute_result"
    }
   ],
   "source": [
    "len(annotations_json)"
   ]
  },
  {
   "cell_type": "code",
   "execution_count": 58,
   "metadata": {},
   "outputs": [
    {
     "data": {
      "text/plain": [
       "420"
      ]
     },
     "execution_count": 58,
     "metadata": {},
     "output_type": "execute_result"
    }
   ],
   "source": [
    "annotations_json[1]['area']"
   ]
  },
  {
   "cell_type": "code",
   "execution_count": 61,
   "metadata": {},
   "outputs": [
    {
     "data": {
      "text/html": [
       "<div>\n",
       "<style scoped>\n",
       "    .dataframe tbody tr th:only-of-type {\n",
       "        vertical-align: middle;\n",
       "    }\n",
       "\n",
       "    .dataframe tbody tr th {\n",
       "        vertical-align: top;\n",
       "    }\n",
       "\n",
       "    .dataframe thead th {\n",
       "        text-align: right;\n",
       "    }\n",
       "</style>\n",
       "<table border=\"1\" class=\"dataframe\">\n",
       "  <thead>\n",
       "    <tr style=\"text-align: right;\">\n",
       "      <th></th>\n",
       "      <th>id</th>\n",
       "      <th>image_id</th>\n",
       "      <th>category_id</th>\n",
       "      <th>area</th>\n",
       "      <th>bbox</th>\n",
       "      <th>iscrowd</th>\n",
       "    </tr>\n",
       "  </thead>\n",
       "  <tbody>\n",
       "    <tr>\n",
       "      <th>0</th>\n",
       "      <td>NaN</td>\n",
       "      <td>NaN</td>\n",
       "      <td>NaN</td>\n",
       "      <td>NaN</td>\n",
       "      <td>649</td>\n",
       "      <td>0</td>\n",
       "    </tr>\n",
       "    <tr>\n",
       "      <th>1</th>\n",
       "      <td>NaN</td>\n",
       "      <td>NaN</td>\n",
       "      <td>NaN</td>\n",
       "      <td>NaN</td>\n",
       "      <td>376</td>\n",
       "      <td>0</td>\n",
       "    </tr>\n",
       "    <tr>\n",
       "      <th>2</th>\n",
       "      <td>NaN</td>\n",
       "      <td>NaN</td>\n",
       "      <td>NaN</td>\n",
       "      <td>NaN</td>\n",
       "      <td>18</td>\n",
       "      <td>0</td>\n",
       "    </tr>\n",
       "    <tr>\n",
       "      <th>3</th>\n",
       "      <td>NaN</td>\n",
       "      <td>NaN</td>\n",
       "      <td>NaN</td>\n",
       "      <td>NaN</td>\n",
       "      <td>18</td>\n",
       "      <td>0</td>\n",
       "    </tr>\n",
       "  </tbody>\n",
       "</table>\n",
       "</div>"
      ],
      "text/plain": [
       "   id  image_id  category_id  area  bbox  iscrowd\n",
       "0 NaN       NaN          NaN   NaN   649        0\n",
       "1 NaN       NaN          NaN   NaN   376        0\n",
       "2 NaN       NaN          NaN   NaN    18        0\n",
       "3 NaN       NaN          NaN   NaN    18        0"
      ]
     },
     "execution_count": 61,
     "metadata": {},
     "output_type": "execute_result"
    }
   ],
   "source": [
    "df = pd.DataFrame()\n",
    "# for i in range(len(annotations_json)):\n",
    "df['id'] = annotations_json[0]['id']\n",
    "df['image_id'] = annotations_json[0]['image_id']\n",
    "df['category_id'] = annotations_json[0]['category_id']\n",
    "df['area'] = annotations_json[0]['area']\n",
    "df['bbox'] = annotations_json[0]['bbox']\n",
    "df['iscrowd'] = annotations_json[0]['iscrowd']\n",
    "df\n",
    "# df.append(df2, ignore_index = True )"
   ]
  },
  {
   "cell_type": "code",
   "execution_count": 30,
   "metadata": {},
   "outputs": [
    {
     "data": {
      "text/html": [
       "<div>\n",
       "<style scoped>\n",
       "    .dataframe tbody tr th:only-of-type {\n",
       "        vertical-align: middle;\n",
       "    }\n",
       "\n",
       "    .dataframe tbody tr th {\n",
       "        vertical-align: top;\n",
       "    }\n",
       "\n",
       "    .dataframe thead th {\n",
       "        text-align: right;\n",
       "    }\n",
       "</style>\n",
       "<table border=\"1\" class=\"dataframe\">\n",
       "  <thead>\n",
       "    <tr style=\"text-align: right;\">\n",
       "      <th></th>\n",
       "      <th>id</th>\n",
       "      <th>image_id</th>\n",
       "      <th>category_id</th>\n",
       "      <th>area</th>\n",
       "      <th>bbox</th>\n",
       "      <th>iscrowd</th>\n",
       "    </tr>\n",
       "  </thead>\n",
       "  <tbody>\n",
       "    <tr>\n",
       "      <th>0</th>\n",
       "      <td>104357</td>\n",
       "      <td>59187</td>\n",
       "      <td>116</td>\n",
       "      <td>1196</td>\n",
       "      <td>703</td>\n",
       "      <td>0</td>\n",
       "    </tr>\n",
       "    <tr>\n",
       "      <th>1</th>\n",
       "      <td>104357</td>\n",
       "      <td>59187</td>\n",
       "      <td>116</td>\n",
       "      <td>1196</td>\n",
       "      <td>370</td>\n",
       "      <td>0</td>\n",
       "    </tr>\n",
       "    <tr>\n",
       "      <th>2</th>\n",
       "      <td>104357</td>\n",
       "      <td>59187</td>\n",
       "      <td>116</td>\n",
       "      <td>1196</td>\n",
       "      <td>46</td>\n",
       "      <td>0</td>\n",
       "    </tr>\n",
       "    <tr>\n",
       "      <th>3</th>\n",
       "      <td>104357</td>\n",
       "      <td>59187</td>\n",
       "      <td>116</td>\n",
       "      <td>1196</td>\n",
       "      <td>26</td>\n",
       "      <td>0</td>\n",
       "    </tr>\n",
       "  </tbody>\n",
       "</table>\n",
       "</div>"
      ],
      "text/plain": [
       "       id  image_id  category_id  area  bbox  iscrowd\n",
       "0  104357     59187          116  1196   703        0\n",
       "1  104357     59187          116  1196   370        0\n",
       "2  104357     59187          116  1196    46        0\n",
       "3  104357     59187          116  1196    26        0"
      ]
     },
     "execution_count": 30,
     "metadata": {},
     "output_type": "execute_result"
    }
   ],
   "source": [
    "df"
   ]
  },
  {
   "cell_type": "code",
   "execution_count": 49,
   "metadata": {},
   "outputs": [
    {
     "ename": "AttributeError",
     "evalue": "'DataFrame' object has no attribute 'loads'",
     "output_type": "error",
     "traceback": [
      "\u001b[0;31m---------------------------------------------------------------------------\u001b[0m",
      "\u001b[0;31mAttributeError\u001b[0m                            Traceback (most recent call last)",
      "\u001b[0;32m/var/folders/yj/nhkf3nv505d5kh0dsk42f3ym0000gn/T/ipykernel_21840/2342046230.py\u001b[0m in \u001b[0;36m?\u001b[0;34m()\u001b[0m\n\u001b[0;32m----> 1\u001b[0;31m \u001b[0mdict\u001b[0m \u001b[0;34m=\u001b[0m \u001b[0mjson\u001b[0m\u001b[0;34m.\u001b[0m\u001b[0mloads\u001b[0m\u001b[0;34m(\u001b[0m\u001b[0mjson\u001b[0m\u001b[0;34m)\u001b[0m\u001b[0;34m\u001b[0m\u001b[0;34m\u001b[0m\u001b[0m\n\u001b[0m\u001b[1;32m      2\u001b[0m \u001b[0mdf2\u001b[0m \u001b[0;34m=\u001b[0m \u001b[0mpd\u001b[0m\u001b[0;34m.\u001b[0m\u001b[0mjson_normalize\u001b[0m\u001b[0;34m(\u001b[0m\u001b[0mdict\u001b[0m\u001b[0;34m[\u001b[0m\u001b[0;34m'annotations'\u001b[0m\u001b[0;34m]\u001b[0m\u001b[0;34m)\u001b[0m\u001b[0;34m\u001b[0m\u001b[0;34m\u001b[0m\u001b[0m\n\u001b[1;32m      3\u001b[0m \u001b[0mprint\u001b[0m\u001b[0;34m(\u001b[0m\u001b[0;34m\"After converting JSON data to DataFrame:\\n\"\u001b[0m\u001b[0;34m,\u001b[0m \u001b[0mdf2\u001b[0m\u001b[0;34m)\u001b[0m\u001b[0;34m\u001b[0m\u001b[0;34m\u001b[0m\u001b[0m\n",
      "\u001b[0;32m~/anaconda3/envs/DataEng/lib/python3.10/site-packages/pandas/core/generic.py\u001b[0m in \u001b[0;36m?\u001b[0;34m(self, name)\u001b[0m\n\u001b[1;32m   6200\u001b[0m             \u001b[0;32mand\u001b[0m \u001b[0mname\u001b[0m \u001b[0;32mnot\u001b[0m \u001b[0;32min\u001b[0m \u001b[0mself\u001b[0m\u001b[0;34m.\u001b[0m\u001b[0m_accessors\u001b[0m\u001b[0;34m\u001b[0m\u001b[0;34m\u001b[0m\u001b[0m\n\u001b[1;32m   6201\u001b[0m             \u001b[0;32mand\u001b[0m \u001b[0mself\u001b[0m\u001b[0;34m.\u001b[0m\u001b[0m_info_axis\u001b[0m\u001b[0;34m.\u001b[0m\u001b[0m_can_hold_identifiers_and_holds_name\u001b[0m\u001b[0;34m(\u001b[0m\u001b[0mname\u001b[0m\u001b[0;34m)\u001b[0m\u001b[0;34m\u001b[0m\u001b[0;34m\u001b[0m\u001b[0m\n\u001b[1;32m   6202\u001b[0m         ):\n\u001b[1;32m   6203\u001b[0m             \u001b[0;32mreturn\u001b[0m \u001b[0mself\u001b[0m\u001b[0;34m[\u001b[0m\u001b[0mname\u001b[0m\u001b[0;34m]\u001b[0m\u001b[0;34m\u001b[0m\u001b[0;34m\u001b[0m\u001b[0m\n\u001b[0;32m-> 6204\u001b[0;31m         \u001b[0;32mreturn\u001b[0m \u001b[0mobject\u001b[0m\u001b[0;34m.\u001b[0m\u001b[0m__getattribute__\u001b[0m\u001b[0;34m(\u001b[0m\u001b[0mself\u001b[0m\u001b[0;34m,\u001b[0m \u001b[0mname\u001b[0m\u001b[0;34m)\u001b[0m\u001b[0;34m\u001b[0m\u001b[0;34m\u001b[0m\u001b[0m\n\u001b[0m",
      "\u001b[0;31mAttributeError\u001b[0m: 'DataFrame' object has no attribute 'loads'"
     ]
    }
   ],
   "source": [
    "dict = json.loads(json)\n",
    "df2 = pd.json_normalize(dict['annotations']) \n",
    "print(\"After converting JSON data to DataFrame:\\n\", df2)"
   ]
  }
 ],
 "metadata": {
  "kernelspec": {
   "display_name": "DataEng",
   "language": "python",
   "name": "python3"
  },
  "language_info": {
   "codemirror_mode": {
    "name": "ipython",
    "version": 3
   },
   "file_extension": ".py",
   "mimetype": "text/x-python",
   "name": "python",
   "nbconvert_exporter": "python",
   "pygments_lexer": "ipython3",
   "version": "3.10.13"
  }
 },
 "nbformat": 4,
 "nbformat_minor": 2
}
