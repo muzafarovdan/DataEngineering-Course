{
 "cells": [
  {
   "cell_type": "code",
   "execution_count": 125,
   "metadata": {},
   "outputs": [],
   "source": [
    "import numpy as np \n",
    "import pandas as pd \n",
    "import os\n",
    "import seaborn as sns\n",
    "import matplotlib.pyplot as plt\n",
    "from matplotlib.pyplot import figure\n"
   ]
  },
  {
   "cell_type": "code",
   "execution_count": 5,
   "metadata": {},
   "outputs": [
    {
     "name": "stdout",
     "output_type": "stream",
     "text": [
      "['autosave23_10_2012_10_49_21_1.jpg', 'autosave23_10_2012_14_37_01_2.jpg', 'autosave10_10_2012_08_56_20_2.jpg', 'autosave10_10_2012_07_46_04_1.jpg', 'autosave21_01_2013_10_10_47_2.jpg', 'autosave21_01_2013_11_39_34_0.jpg', 'autosave01_02_2012_11_26_17.jpg', 'autosave09_10_2012_09_30_25_1.jpg', 'autosave09_10_2012_13_25_34_3.jpg', 'autosave09_10_2012_12_31_48_0.jpg']\n"
     ]
    }
   ],
   "source": [
    "images = os.listdir('/Users/muzafarov/Desktop/Datasets/RTS/rtsd-frames/rtsd-frames')\n",
    "print(images[:10])"
   ]
  },
  {
   "cell_type": "code",
   "execution_count": 103,
   "metadata": {},
   "outputs": [],
   "source": [
    "json = pd.read_json('/Users/muzafarov/Desktop/Datasets/RTS/train_anno.json', orient='index')"
   ]
  },
  {
   "cell_type": "code",
   "execution_count": 7,
   "metadata": {},
   "outputs": [
    {
     "data": {
      "text/html": [
       "<div>\n",
       "<style scoped>\n",
       "    .dataframe tbody tr th:only-of-type {\n",
       "        vertical-align: middle;\n",
       "    }\n",
       "\n",
       "    .dataframe tbody tr th {\n",
       "        vertical-align: top;\n",
       "    }\n",
       "\n",
       "    .dataframe thead th {\n",
       "        text-align: right;\n",
       "    }\n",
       "</style>\n",
       "<table border=\"1\" class=\"dataframe\">\n",
       "  <thead>\n",
       "    <tr style=\"text-align: right;\">\n",
       "      <th></th>\n",
       "      <th>0</th>\n",
       "      <th>1</th>\n",
       "      <th>2</th>\n",
       "      <th>3</th>\n",
       "      <th>4</th>\n",
       "      <th>5</th>\n",
       "      <th>6</th>\n",
       "      <th>7</th>\n",
       "      <th>8</th>\n",
       "      <th>9</th>\n",
       "      <th>...</th>\n",
       "      <th>95482</th>\n",
       "      <th>95483</th>\n",
       "      <th>95484</th>\n",
       "      <th>95485</th>\n",
       "      <th>95486</th>\n",
       "      <th>95487</th>\n",
       "      <th>95488</th>\n",
       "      <th>95489</th>\n",
       "      <th>95490</th>\n",
       "      <th>95491</th>\n",
       "    </tr>\n",
       "  </thead>\n",
       "  <tbody>\n",
       "    <tr>\n",
       "      <th>images</th>\n",
       "      <td>{'id': 0, 'width': 1280, 'height': 720, 'file_...</td>\n",
       "      <td>{'id': 1, 'width': 1280, 'height': 720, 'file_...</td>\n",
       "      <td>{'id': 2, 'width': 1280, 'height': 720, 'file_...</td>\n",
       "      <td>{'id': 3, 'width': 1280, 'height': 720, 'file_...</td>\n",
       "      <td>{'id': 4, 'width': 1280, 'height': 720, 'file_...</td>\n",
       "      <td>{'id': 5, 'width': 1280, 'height': 720, 'file_...</td>\n",
       "      <td>{'id': 6, 'width': 1280, 'height': 720, 'file_...</td>\n",
       "      <td>{'id': 7, 'width': 1280, 'height': 720, 'file_...</td>\n",
       "      <td>{'id': 8, 'width': 1280, 'height': 720, 'file_...</td>\n",
       "      <td>{'id': 9, 'width': 1280, 'height': 720, 'file_...</td>\n",
       "      <td>...</td>\n",
       "      <td>None</td>\n",
       "      <td>None</td>\n",
       "      <td>None</td>\n",
       "      <td>None</td>\n",
       "      <td>None</td>\n",
       "      <td>None</td>\n",
       "      <td>None</td>\n",
       "      <td>None</td>\n",
       "      <td>None</td>\n",
       "      <td>None</td>\n",
       "    </tr>\n",
       "    <tr>\n",
       "      <th>annotations</th>\n",
       "      <td>{'id': 0, 'image_id': 0, 'category_id': 1, 'ar...</td>\n",
       "      <td>{'id': 1, 'image_id': 1, 'category_id': 1, 'ar...</td>\n",
       "      <td>{'id': 2, 'image_id': 2, 'category_id': 1, 'ar...</td>\n",
       "      <td>{'id': 3, 'image_id': 3, 'category_id': 1, 'ar...</td>\n",
       "      <td>{'id': 4, 'image_id': 3, 'category_id': 2, 'ar...</td>\n",
       "      <td>{'id': 5, 'image_id': 4, 'category_id': 1, 'ar...</td>\n",
       "      <td>{'id': 6, 'image_id': 4, 'category_id': 2, 'ar...</td>\n",
       "      <td>{'id': 7, 'image_id': 5, 'category_id': 2, 'ar...</td>\n",
       "      <td>{'id': 8, 'image_id': 6, 'category_id': 2, 'ar...</td>\n",
       "      <td>{'id': 9, 'image_id': 7, 'category_id': 3, 'ar...</td>\n",
       "      <td>...</td>\n",
       "      <td>{'id': 104348, 'image_id': 59178, 'category_id...</td>\n",
       "      <td>{'id': 104349, 'image_id': 59179, 'category_id...</td>\n",
       "      <td>{'id': 104350, 'image_id': 59180, 'category_id...</td>\n",
       "      <td>{'id': 104351, 'image_id': 59181, 'category_id...</td>\n",
       "      <td>{'id': 104352, 'image_id': 59182, 'category_id...</td>\n",
       "      <td>{'id': 104353, 'image_id': 59183, 'category_id...</td>\n",
       "      <td>{'id': 104354, 'image_id': 59184, 'category_id...</td>\n",
       "      <td>{'id': 104355, 'image_id': 59185, 'category_id...</td>\n",
       "      <td>{'id': 104356, 'image_id': 59186, 'category_id...</td>\n",
       "      <td>{'id': 104357, 'image_id': 59187, 'category_id...</td>\n",
       "    </tr>\n",
       "    <tr>\n",
       "      <th>categories</th>\n",
       "      <td>{'id': 1, 'name': '2_1'}</td>\n",
       "      <td>{'id': 2, 'name': '1_23'}</td>\n",
       "      <td>{'id': 3, 'name': '1_17'}</td>\n",
       "      <td>{'id': 4, 'name': '3_24'}</td>\n",
       "      <td>{'id': 5, 'name': '8_2_1'}</td>\n",
       "      <td>{'id': 6, 'name': '5_20'}</td>\n",
       "      <td>{'id': 7, 'name': '5_19_1'}</td>\n",
       "      <td>{'id': 8, 'name': '5_16'}</td>\n",
       "      <td>{'id': 9, 'name': '3_25'}</td>\n",
       "      <td>{'id': 10, 'name': '6_16'}</td>\n",
       "      <td>...</td>\n",
       "      <td>None</td>\n",
       "      <td>None</td>\n",
       "      <td>None</td>\n",
       "      <td>None</td>\n",
       "      <td>None</td>\n",
       "      <td>None</td>\n",
       "      <td>None</td>\n",
       "      <td>None</td>\n",
       "      <td>None</td>\n",
       "      <td>None</td>\n",
       "    </tr>\n",
       "  </tbody>\n",
       "</table>\n",
       "<p>3 rows × 95492 columns</p>\n",
       "</div>"
      ],
      "text/plain": [
       "                                                         0      \\\n",
       "images       {'id': 0, 'width': 1280, 'height': 720, 'file_...   \n",
       "annotations  {'id': 0, 'image_id': 0, 'category_id': 1, 'ar...   \n",
       "categories                            {'id': 1, 'name': '2_1'}   \n",
       "\n",
       "                                                         1      \\\n",
       "images       {'id': 1, 'width': 1280, 'height': 720, 'file_...   \n",
       "annotations  {'id': 1, 'image_id': 1, 'category_id': 1, 'ar...   \n",
       "categories                           {'id': 2, 'name': '1_23'}   \n",
       "\n",
       "                                                         2      \\\n",
       "images       {'id': 2, 'width': 1280, 'height': 720, 'file_...   \n",
       "annotations  {'id': 2, 'image_id': 2, 'category_id': 1, 'ar...   \n",
       "categories                           {'id': 3, 'name': '1_17'}   \n",
       "\n",
       "                                                         3      \\\n",
       "images       {'id': 3, 'width': 1280, 'height': 720, 'file_...   \n",
       "annotations  {'id': 3, 'image_id': 3, 'category_id': 1, 'ar...   \n",
       "categories                           {'id': 4, 'name': '3_24'}   \n",
       "\n",
       "                                                         4      \\\n",
       "images       {'id': 4, 'width': 1280, 'height': 720, 'file_...   \n",
       "annotations  {'id': 4, 'image_id': 3, 'category_id': 2, 'ar...   \n",
       "categories                          {'id': 5, 'name': '8_2_1'}   \n",
       "\n",
       "                                                         5      \\\n",
       "images       {'id': 5, 'width': 1280, 'height': 720, 'file_...   \n",
       "annotations  {'id': 5, 'image_id': 4, 'category_id': 1, 'ar...   \n",
       "categories                           {'id': 6, 'name': '5_20'}   \n",
       "\n",
       "                                                         6      \\\n",
       "images       {'id': 6, 'width': 1280, 'height': 720, 'file_...   \n",
       "annotations  {'id': 6, 'image_id': 4, 'category_id': 2, 'ar...   \n",
       "categories                         {'id': 7, 'name': '5_19_1'}   \n",
       "\n",
       "                                                         7      \\\n",
       "images       {'id': 7, 'width': 1280, 'height': 720, 'file_...   \n",
       "annotations  {'id': 7, 'image_id': 5, 'category_id': 2, 'ar...   \n",
       "categories                           {'id': 8, 'name': '5_16'}   \n",
       "\n",
       "                                                         8      \\\n",
       "images       {'id': 8, 'width': 1280, 'height': 720, 'file_...   \n",
       "annotations  {'id': 8, 'image_id': 6, 'category_id': 2, 'ar...   \n",
       "categories                           {'id': 9, 'name': '3_25'}   \n",
       "\n",
       "                                                         9      ...  \\\n",
       "images       {'id': 9, 'width': 1280, 'height': 720, 'file_...  ...   \n",
       "annotations  {'id': 9, 'image_id': 7, 'category_id': 3, 'ar...  ...   \n",
       "categories                          {'id': 10, 'name': '6_16'}  ...   \n",
       "\n",
       "                                                         95482  \\\n",
       "images                                                    None   \n",
       "annotations  {'id': 104348, 'image_id': 59178, 'category_id...   \n",
       "categories                                                None   \n",
       "\n",
       "                                                         95483  \\\n",
       "images                                                    None   \n",
       "annotations  {'id': 104349, 'image_id': 59179, 'category_id...   \n",
       "categories                                                None   \n",
       "\n",
       "                                                         95484  \\\n",
       "images                                                    None   \n",
       "annotations  {'id': 104350, 'image_id': 59180, 'category_id...   \n",
       "categories                                                None   \n",
       "\n",
       "                                                         95485  \\\n",
       "images                                                    None   \n",
       "annotations  {'id': 104351, 'image_id': 59181, 'category_id...   \n",
       "categories                                                None   \n",
       "\n",
       "                                                         95486  \\\n",
       "images                                                    None   \n",
       "annotations  {'id': 104352, 'image_id': 59182, 'category_id...   \n",
       "categories                                                None   \n",
       "\n",
       "                                                         95487  \\\n",
       "images                                                    None   \n",
       "annotations  {'id': 104353, 'image_id': 59183, 'category_id...   \n",
       "categories                                                None   \n",
       "\n",
       "                                                         95488  \\\n",
       "images                                                    None   \n",
       "annotations  {'id': 104354, 'image_id': 59184, 'category_id...   \n",
       "categories                                                None   \n",
       "\n",
       "                                                         95489  \\\n",
       "images                                                    None   \n",
       "annotations  {'id': 104355, 'image_id': 59185, 'category_id...   \n",
       "categories                                                None   \n",
       "\n",
       "                                                         95490  \\\n",
       "images                                                    None   \n",
       "annotations  {'id': 104356, 'image_id': 59186, 'category_id...   \n",
       "categories                                                None   \n",
       "\n",
       "                                                         95491  \n",
       "images                                                    None  \n",
       "annotations  {'id': 104357, 'image_id': 59187, 'category_id...  \n",
       "categories                                                None  \n",
       "\n",
       "[3 rows x 95492 columns]"
      ]
     },
     "execution_count": 7,
     "metadata": {},
     "output_type": "execute_result"
    }
   ],
   "source": [
    "json"
   ]
  },
  {
   "cell_type": "code",
   "execution_count": 104,
   "metadata": {},
   "outputs": [
    {
     "data": {
      "text/plain": [
       "0        {'id': 0, 'image_id': 0, 'category_id': 1, 'ar...\n",
       "1        {'id': 1, 'image_id': 1, 'category_id': 1, 'ar...\n",
       "2        {'id': 2, 'image_id': 2, 'category_id': 1, 'ar...\n",
       "3        {'id': 3, 'image_id': 3, 'category_id': 1, 'ar...\n",
       "4        {'id': 4, 'image_id': 3, 'category_id': 2, 'ar...\n",
       "                               ...                        \n",
       "95487    {'id': 104353, 'image_id': 59183, 'category_id...\n",
       "95488    {'id': 104354, 'image_id': 59184, 'category_id...\n",
       "95489    {'id': 104355, 'image_id': 59185, 'category_id...\n",
       "95490    {'id': 104356, 'image_id': 59186, 'category_id...\n",
       "95491    {'id': 104357, 'image_id': 59187, 'category_id...\n",
       "Name: annotations, Length: 95492, dtype: object"
      ]
     },
     "execution_count": 104,
     "metadata": {},
     "output_type": "execute_result"
    }
   ],
   "source": [
    "annotations_json = json.loc['annotations']\n",
    "annotations_json "
   ]
  },
  {
   "cell_type": "code",
   "execution_count": 105,
   "metadata": {},
   "outputs": [],
   "source": [
    "df = pd.DataFrame.from_dict(pd.json_normalize(annotations_json), orient='columns')"
   ]
  },
  {
   "cell_type": "code",
   "execution_count": 106,
   "metadata": {},
   "outputs": [
    {
     "data": {
      "text/html": [
       "<div>\n",
       "<style scoped>\n",
       "    .dataframe tbody tr th:only-of-type {\n",
       "        vertical-align: middle;\n",
       "    }\n",
       "\n",
       "    .dataframe tbody tr th {\n",
       "        vertical-align: top;\n",
       "    }\n",
       "\n",
       "    .dataframe thead th {\n",
       "        text-align: right;\n",
       "    }\n",
       "</style>\n",
       "<table border=\"1\" class=\"dataframe\">\n",
       "  <thead>\n",
       "    <tr style=\"text-align: right;\">\n",
       "      <th></th>\n",
       "      <th>id</th>\n",
       "      <th>image_id</th>\n",
       "      <th>category_id</th>\n",
       "      <th>area</th>\n",
       "      <th>bbox</th>\n",
       "      <th>iscrowd</th>\n",
       "    </tr>\n",
       "  </thead>\n",
       "  <tbody>\n",
       "    <tr>\n",
       "      <th>0</th>\n",
       "      <td>0</td>\n",
       "      <td>0</td>\n",
       "      <td>1</td>\n",
       "      <td>324</td>\n",
       "      <td>[649, 376, 18, 18]</td>\n",
       "      <td>0</td>\n",
       "    </tr>\n",
       "    <tr>\n",
       "      <th>1</th>\n",
       "      <td>1</td>\n",
       "      <td>1</td>\n",
       "      <td>1</td>\n",
       "      <td>420</td>\n",
       "      <td>[671, 356, 20, 21]</td>\n",
       "      <td>0</td>\n",
       "    </tr>\n",
       "    <tr>\n",
       "      <th>2</th>\n",
       "      <td>2</td>\n",
       "      <td>2</td>\n",
       "      <td>1</td>\n",
       "      <td>702</td>\n",
       "      <td>[711, 332, 27, 26]</td>\n",
       "      <td>0</td>\n",
       "    </tr>\n",
       "    <tr>\n",
       "      <th>3</th>\n",
       "      <td>3</td>\n",
       "      <td>3</td>\n",
       "      <td>1</td>\n",
       "      <td>1332</td>\n",
       "      <td>[764, 290, 37, 36]</td>\n",
       "      <td>0</td>\n",
       "    </tr>\n",
       "    <tr>\n",
       "      <th>4</th>\n",
       "      <td>4</td>\n",
       "      <td>3</td>\n",
       "      <td>2</td>\n",
       "      <td>289</td>\n",
       "      <td>[684, 384, 17, 17]</td>\n",
       "      <td>0</td>\n",
       "    </tr>\n",
       "    <tr>\n",
       "      <th>...</th>\n",
       "      <td>...</td>\n",
       "      <td>...</td>\n",
       "      <td>...</td>\n",
       "      <td>...</td>\n",
       "      <td>...</td>\n",
       "      <td>...</td>\n",
       "    </tr>\n",
       "    <tr>\n",
       "      <th>95487</th>\n",
       "      <td>104353</td>\n",
       "      <td>59183</td>\n",
       "      <td>116</td>\n",
       "      <td>432</td>\n",
       "      <td>[622, 394, 27, 16]</td>\n",
       "      <td>0</td>\n",
       "    </tr>\n",
       "    <tr>\n",
       "      <th>95488</th>\n",
       "      <td>104354</td>\n",
       "      <td>59184</td>\n",
       "      <td>116</td>\n",
       "      <td>558</td>\n",
       "      <td>[638, 387, 31, 18]</td>\n",
       "      <td>0</td>\n",
       "    </tr>\n",
       "    <tr>\n",
       "      <th>95489</th>\n",
       "      <td>104355</td>\n",
       "      <td>59185</td>\n",
       "      <td>116</td>\n",
       "      <td>660</td>\n",
       "      <td>[647, 385, 33, 20]</td>\n",
       "      <td>0</td>\n",
       "    </tr>\n",
       "    <tr>\n",
       "      <th>95490</th>\n",
       "      <td>104356</td>\n",
       "      <td>59186</td>\n",
       "      <td>116</td>\n",
       "      <td>943</td>\n",
       "      <td>[668, 378, 41, 23]</td>\n",
       "      <td>0</td>\n",
       "    </tr>\n",
       "    <tr>\n",
       "      <th>95491</th>\n",
       "      <td>104357</td>\n",
       "      <td>59187</td>\n",
       "      <td>116</td>\n",
       "      <td>1196</td>\n",
       "      <td>[703, 370, 46, 26]</td>\n",
       "      <td>0</td>\n",
       "    </tr>\n",
       "  </tbody>\n",
       "</table>\n",
       "<p>95492 rows × 6 columns</p>\n",
       "</div>"
      ],
      "text/plain": [
       "           id  image_id  category_id  area                bbox  iscrowd\n",
       "0           0         0            1   324  [649, 376, 18, 18]        0\n",
       "1           1         1            1   420  [671, 356, 20, 21]        0\n",
       "2           2         2            1   702  [711, 332, 27, 26]        0\n",
       "3           3         3            1  1332  [764, 290, 37, 36]        0\n",
       "4           4         3            2   289  [684, 384, 17, 17]        0\n",
       "...       ...       ...          ...   ...                 ...      ...\n",
       "95487  104353     59183          116   432  [622, 394, 27, 16]        0\n",
       "95488  104354     59184          116   558  [638, 387, 31, 18]        0\n",
       "95489  104355     59185          116   660  [647, 385, 33, 20]        0\n",
       "95490  104356     59186          116   943  [668, 378, 41, 23]        0\n",
       "95491  104357     59187          116  1196  [703, 370, 46, 26]        0\n",
       "\n",
       "[95492 rows x 6 columns]"
      ]
     },
     "execution_count": 106,
     "metadata": {},
     "output_type": "execute_result"
    }
   ],
   "source": [
    "df"
   ]
  },
  {
   "cell_type": "code",
   "execution_count": 124,
   "metadata": {},
   "outputs": [
    {
     "data": {
      "text/plain": [
       "0          1\n",
       "1          1\n",
       "2          1\n",
       "3          1\n",
       "4          2\n",
       "        ... \n",
       "95487    116\n",
       "95488    116\n",
       "95489    116\n",
       "95490    116\n",
       "95491    116\n",
       "Name: category_id, Length: 95492, dtype: int64"
      ]
     },
     "execution_count": 124,
     "metadata": {},
     "output_type": "execute_result"
    }
   ],
   "source": [
    "df['category_id']"
   ]
  },
  {
   "cell_type": "code",
   "execution_count": 126,
   "metadata": {},
   "outputs": [
    {
     "name": "stderr",
     "output_type": "stream",
     "text": [
      "/var/folders/yj/nhkf3nv505d5kh0dsk42f3ym0000gn/T/ipykernel_21840/128271779.py:2: UserWarning: \n",
      "\n",
      "`distplot` is a deprecated function and will be removed in seaborn v0.14.0.\n",
      "\n",
      "Please adapt your code to use either `displot` (a figure-level function with\n",
      "similar flexibility) or `histplot` (an axes-level function for histograms).\n",
      "\n",
      "For a guide to updating your code to use the new functions, please see\n",
      "https://gist.github.com/mwaskom/de44147ed2974457ad6372750bbe5751\n",
      "\n",
      "  sns.distplot(df['category_id'], hist=True, kde=True,\n",
      "/Users/muzafarov/anaconda3/envs/DataEng/lib/python3.10/site-packages/seaborn/_oldcore.py:1498: FutureWarning: is_categorical_dtype is deprecated and will be removed in a future version. Use isinstance(dtype, CategoricalDtype) instead\n",
      "  if pd.api.types.is_categorical_dtype(vector):\n",
      "/Users/muzafarov/anaconda3/envs/DataEng/lib/python3.10/site-packages/seaborn/_oldcore.py:1119: FutureWarning: use_inf_as_na option is deprecated and will be removed in a future version. Convert inf values to NaN before operating instead.\n",
      "  with pd.option_context('mode.use_inf_as_na', True):\n"
     ]
    },
    {
     "data": {
      "text/plain": [
       "<Axes: xlabel='category_id', ylabel='Density'>"
      ]
     },
     "execution_count": 126,
     "metadata": {},
     "output_type": "execute_result"
    },
    {
     "data": {
      "image/png": "[encoded data removed]",
      "text/plain": [
       "<Figure size 640x480 with 1 Axes>"
      ]
     },
     "metadata": {},
     "output_type": "display_data"
    }
   ],
   "source": [
    "# Density Plot and Histogram of all arrival delays\n",
    "sns.distplot(df['category_id'], hist=True, kde=True, \n",
    "             bins=int(180/5), color = 'darkblue', \n",
    "             hist_kws={'edgecolor':'black'},\n",
    "             kde_kws={'linewidth': 4})"
   ]
  },
  {
   "cell_type": "markdown",
   "metadata": {},
   "source": [
    "## Каждый признак 'category_id' - это конкретный знак ПДД. 'label_map.json' - в нем лежит список в формате {'category_id' : конкретный знак дорожного движения}"
   ]
  },
  {
   "cell_type": "code",
   "execution_count": 130,
   "metadata": {},
   "outputs": [
    {
     "data": {
      "text/plain": [
       "category_id\n",
       "76         1\n",
       "141        1\n",
       "59         2\n",
       "123        2\n",
       "152        3\n",
       "       ...  \n",
       "4       3761\n",
       "43      4504\n",
       "8       4727\n",
       "1      10027\n",
       "7      22147\n",
       "Name: count, Length: 155, dtype: int64"
      ]
     },
     "execution_count": 130,
     "metadata": {},
     "output_type": "execute_result"
    }
   ],
   "source": [
    "df['category_id'].value_counts().sort_values()"
   ]
  },
  {
   "cell_type": "markdown",
   "metadata": {},
   "source": [
    "Самый популярный знак \"7\", что соответствует знаку 5_19_1 (пешеходный переход) в ПДД."
   ]
  },
  {
   "cell_type": "code",
   "execution_count": null,
   "metadata": {},
   "outputs": [],
   "source": []
  },
  {
   "cell_type": "markdown",
   "metadata": {},
   "source": [
    "## Возможные применения этих данных в контексте машинного обучения"
   ]
  }
 ],
 "metadata": {
  "kernelspec": {
   "display_name": "DataEng",
   "language": "python",
   "name": "python3"
  },
  "language_info": {
   "codemirror_mode": {
    "name": "ipython",
    "version": 3
   },
   "file_extension": ".py",
   "mimetype": "text/x-python",
   "name": "python",
   "nbconvert_exporter": "python",
   "pygments_lexer": "ipython3",
   "version": "3.10.13"
  }
 },
 "nbformat": 4,
 "nbformat_minor": 2
}
